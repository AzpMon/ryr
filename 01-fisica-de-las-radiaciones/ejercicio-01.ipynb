{
 "cells": [
  {
   "cell_type": "markdown",
   "metadata": {},
   "source": [
    "# Guía 1: Ejercicio 1\n",
    "\n",
    "Se tiene una muestra que contiene un isótopo radiactivo desconocido. Se realizan mediciones de la actividad con un instrumento de detección cuya eficiencia es del 100%. Se obtiene la siguiente tabla:\n",
    "\n",
    "| Tiempo [min]  |   Actividad [MBq]|\n",
    "| -- | ---- |\n",
    "| 5  | 40.4 |\n",
    "| 10 | 28.3 |\n",
    "| 15 | 19.8 |\n",
    "| 20 | 13.9 |\n",
    "| 25 | 9.7  |\n",
    "\n",
    "\n",
    "1. ¿Cuál es la actividad extrapolada a tiempo cero (en cpm, Ci, Bq)?\n",
    "2. ¿Cuáles podrían ser los radioisótopos contenidos en la muestra?\n",
    "3. ¿En cuánto tiempo la actividad decaerá a 1.0 MBq?\n",
    "4. ¿Cuántos núcleos del radioisótopo había a tiempo cero? ¿Cuánta masa poseían en ese momento? \n",
    "5. ¿Cuántos átomos tendrá la muestra a los 25 minutos? ¿Qué elementos contendrá y en qué proporción?"
   ]
  },
  {
   "cell_type": "code",
   "execution_count": 42,
   "metadata": {},
   "outputs": [
    {
     "name": "stdout",
     "output_type": "stream",
     "text": [
      "Populating the interactive namespace from numpy and matplotlib\n"
     ]
    }
   ],
   "source": [
    "import numpy as np\n",
    "import pint\n",
    "\n",
    "%pylab inline\n",
    "u = pint.UnitRegistry()\n",
    "u.setup_matplotlib()"
   ]
  },
  {
   "cell_type": "markdown",
   "metadata": {},
   "source": [
    "### Definición de los vectores con los datos"
   ]
  },
  {
   "cell_type": "code",
   "execution_count": 43,
   "metadata": {},
   "outputs": [],
   "source": [
    "tiempo = np.array([5.0, 10, 15, 20, 25]) * u('min')\n",
    "actividad = np.array([40.4, 28.3, 19.8, 13.9, 9.7]) * u('MBq')"
   ]
  },
  {
   "cell_type": "markdown",
   "metadata": {},
   "source": [
    "Mostramos los vectores"
   ]
  },
  {
   "cell_type": "code",
   "execution_count": 44,
   "metadata": {},
   "outputs": [
    {
     "name": "stdout",
     "output_type": "stream",
     "text": [
      "[ 5. 10. 15. 20. 25.] minute [40.4 28.3 19.8 13.9  9.7] megaBq\n"
     ]
    }
   ],
   "source": [
    "print(tiempo, actividad)"
   ]
  },
  {
   "cell_type": "markdown",
   "metadata": {},
   "source": [
    "También podemos mostrarlos directamente con sus nombres"
   ]
  },
  {
   "cell_type": "code",
   "execution_count": 45,
   "metadata": {},
   "outputs": [
    {
     "data": {
      "text/html": [
       "\\[\\begin{pmatrix}5.0 & 10.0 & 15.0 & 20.0 & 25.0\\end{pmatrix} minute\\]"
      ],
      "text/latex": [
       "$\\begin{pmatrix}5.0 & 10.0 & 15.0 & 20.0 & 25.0\\end{pmatrix}\\ \\mathrm{minute}$"
      ],
      "text/plain": [
       "array([ 5., 10., 15., 20., 25.]) <Unit('minute')>"
      ]
     },
     "execution_count": 45,
     "metadata": {},
     "output_type": "execute_result"
    }
   ],
   "source": [
    "tiempo"
   ]
  },
  {
   "cell_type": "code",
   "execution_count": 46,
   "metadata": {},
   "outputs": [
    {
     "data": {
      "text/html": [
       "\\[\\begin{pmatrix}40.4 & 28.3 & 19.8 & 13.9 & 9.7\\end{pmatrix} megaBq\\]"
      ],
      "text/latex": [
       "$\\begin{pmatrix}40.4 & 28.3 & 19.8 & 13.9 & 9.7\\end{pmatrix}\\ \\mathrm{megaBq}$"
      ],
      "text/plain": [
       "array([40.4, 28.3, 19.8, 13.9,  9.7]) <Unit('megaBq')>"
      ]
     },
     "execution_count": 46,
     "metadata": {},
     "output_type": "execute_result"
    }
   ],
   "source": [
    "actividad"
   ]
  },
  {
   "cell_type": "markdown",
   "metadata": {},
   "source": [
    "Es muy facil convertir la actividad en otras unidades"
   ]
  },
  {
   "cell_type": "code",
   "execution_count": 47,
   "metadata": {},
   "outputs": [
    {
     "data": {
      "text/html": [
       "\\[\\begin{pmatrix}1.0918918918918918 & 0.7648648648648648 & 0.5351351351351351 & 0.37567567567567567 & 0.26216216216216215\\end{pmatrix} millicurie\\]"
      ],
      "text/latex": [
       "$\\begin{pmatrix}1.0918918918918918 & 0.7648648648648648 & 0.5351351351351351 & 0.37567567567567567 & 0.26216216216216215\\end{pmatrix}\\ \\mathrm{millicurie}$"
      ],
      "text/plain": [
       "array([1.09189189, 0.76486486, 0.53513514, 0.37567568, 0.26216216]) <Unit('millicurie')>"
      ]
     },
     "execution_count": 47,
     "metadata": {},
     "output_type": "execute_result"
    }
   ],
   "source": [
    "actividad.to('mCi')"
   ]
  },
  {
   "cell_type": "markdown",
   "metadata": {},
   "source": [
    "Podemos graficar"
   ]
  },
  {
   "cell_type": "code",
   "execution_count": 48,
   "metadata": {},
   "outputs": [
    {
     "data": {
      "text/plain": [
       "[<matplotlib.lines.Line2D at 0x7f234f4696d8>]"
      ]
     },
     "execution_count": 48,
     "metadata": {},
     "output_type": "execute_result"
    },
    {
     "data": {
      "image/png": "[encoded data removed]",
      "text/plain": [
       "<Figure size 432x288 with 1 Axes>"
      ]
     },
     "metadata": {
      "needs_background": "light"
     },
     "output_type": "display_data"
    }
   ],
   "source": [
    "plot(tiempo, actividad.to('MBq'), 'ro')"
   ]
  },
  {
   "cell_type": "markdown",
   "metadata": {},
   "source": [
    "Eso no sabemos si es una exponencial decreciente o no. Vamos a suponer\n",
    "que sí lo es, calculamos entonces los parámetros desconocidos de la función $A(t) =\n",
    "A_0 \\cdot e^{- \\lambda \\cdot t}$, que son $A_0$ y $\\lambda$. \n",
    "\n",
    "A continuación escribimos las ecuaciones para t=4 horas y para t=8:\n",
    "\n",
    "$A(4) = A_0 \\cdot e^{- \\lambda \\cdot 4}$\n",
    "\n",
    "$A(8) = A_0 \\cdot e^{- \\lambda \\cdot 8}$\n",
    "\n",
    "Haciendo el cociente y despejando $\\lambda$ se tiene que\n",
    "$\\lambda = \\frac{1}{4} \\cdot \\ln{\\frac{A(4)}{A(8)}}$. Lo calculamos:"
   ]
  },
  {
   "cell_type": "code",
   "execution_count": 49,
   "metadata": {},
   "outputs": [
    {
     "data": {
      "text/html": [
       "0.044877153854334974 1/hour"
      ],
      "text/latex": [
       "$0.044877153854334974\\ \\frac{1}{\\mathrm{hour}}$"
      ],
      "text/plain": [
       "0.044877153854334974 <Unit('1 / hour')>"
      ]
     },
     "execution_count": 49,
     "metadata": {},
     "output_type": "execute_result"
    }
   ],
   "source": [
    "t1= 4 * u('hours')\n",
    "A1= 852 * u('Ci')\n",
    "t2= 8 * u('hours')\n",
    "A2= 712 * u('Ci')\n",
    "\n",
    "delta_t = t2 - t1\n",
    "\n",
    "ctte_lambda = (1/delta_t) * np.log(A1/A2)\n",
    "\n",
    "ctte_lambda"
   ]
  },
  {
   "cell_type": "markdown",
   "metadata": {},
   "source": [
    "Podemos despejar $A_0 = \\frac{A(t)}{e^{- \\lambda \\cdot t}} $"
   ]
  },
  {
   "cell_type": "code",
   "execution_count": 50,
   "metadata": {},
   "outputs": [
    {
     "data": {
      "text/html": [
       "1019.5280898876404 curie"
      ],
      "text/latex": [
       "$1019.5280898876404\\ \\mathrm{curie}$"
      ],
      "text/plain": [
       "1019.5280898876404 <Unit('curie')>"
      ]
     },
     "execution_count": 50,
     "metadata": {},
     "output_type": "execute_result"
    }
   ],
   "source": [
    "t0= 4 * u('hours')\n",
    "A0 = A1 / np.exp(-ctte_lambda * t0)\n",
    "A0"
   ]
  },
  {
   "cell_type": "code",
   "execution_count": 51,
   "metadata": {},
   "outputs": [],
   "source": [
    "def act(A0, k, t):\n",
    "    # print A0, k, t              # para debug\n",
    "    return A0 * np.exp(-k * t)"
   ]
  },
  {
   "cell_type": "code",
   "execution_count": 52,
   "metadata": {},
   "outputs": [
    {
     "data": {
      "text/html": [
       "1.0 hour"
      ],
      "text/latex": [
       "$1.0\\ \\mathrm{hour}$"
      ],
      "text/plain": [
       "1.0 <Unit('hour')>"
      ]
     },
     "execution_count": 52,
     "metadata": {},
     "output_type": "execute_result"
    }
   ],
   "source": [
    "t = np.linspace(0,50,51) * u('hours')\n",
    "t[1]"
   ]
  },
  {
   "cell_type": "code",
   "execution_count": 53,
   "metadata": {
    "scrolled": true
   },
   "outputs": [
    {
     "data": {
      "text/html": [
       "932.007474532404 curie"
      ],
      "text/latex": [
       "$932.007474532404\\ \\mathrm{curie}$"
      ],
      "text/plain": [
       "932.007474532404 <Unit('curie')>"
      ]
     },
     "execution_count": 53,
     "metadata": {},
     "output_type": "execute_result"
    }
   ],
   "source": [
    "una_act = act(A0,ctte_lambda,t[2])\n",
    "una_act"
   ]
  },
  {
   "cell_type": "code",
   "execution_count": 54,
   "metadata": {},
   "outputs": [
    {
     "data": {
      "text/html": [
       "34484276557698.95 1/second"
      ],
      "text/latex": [
       "$34484276557698.95\\ \\frac{1}{\\mathrm{second}}$"
      ],
      "text/plain": [
       "34484276557698.95 <Unit('1 / second')>"
      ]
     },
     "execution_count": 54,
     "metadata": {},
     "output_type": "execute_result"
    }
   ],
   "source": [
    "una_act.to_base_units()"
   ]
  },
  {
   "cell_type": "code",
   "execution_count": 55,
   "metadata": {
    "scrolled": true
   },
   "outputs": [
    {
     "data": {
      "text/html": [
       "second"
      ],
      "text/latex": [
       "$\\mathrm{second}$"
      ],
      "text/plain": [
       "<Unit('second')>"
      ]
     },
     "execution_count": 55,
     "metadata": {},
     "output_type": "execute_result"
    }
   ],
   "source": [
    "magnitud = una_act.to_base_units().magnitude\n",
    "t[1].to_base_units().units"
   ]
  },
  {
   "cell_type": "code",
   "execution_count": 56,
   "metadata": {},
   "outputs": [
    {
     "data": {
      "text/plain": [
       "0.0"
      ]
     },
     "execution_count": 56,
     "metadata": {},
     "output_type": "execute_result"
    }
   ],
   "source": [
    "t[0].to_base_units().magnitude"
   ]
  },
  {
   "cell_type": "code",
   "execution_count": 57,
   "metadata": {},
   "outputs": [
    {
     "data": {
      "text/html": [
       "second"
      ],
      "text/latex": [
       "$\\mathrm{second}$"
      ],
      "text/plain": [
       "<Unit('second')>"
      ]
     },
     "execution_count": 57,
     "metadata": {},
     "output_type": "execute_result"
    }
   ],
   "source": [
    "t[1].to_base_units().units"
   ]
  },
  {
   "cell_type": "code",
   "execution_count": 58,
   "metadata": {},
   "outputs": [],
   "source": [
    "vector_a = A0 * np.exp(-ctte_lambda * t)"
   ]
  },
  {
   "cell_type": "code",
   "execution_count": 59,
   "metadata": {},
   "outputs": [
    {
     "data": {
      "text/html": [
       "\\[\\begin{pmatrix}1019.5280898876404 & 974.7860279420429 & 932.007474532404 & 891.1062609484956 & 852.0 & 814.6099200642425 & 778.8607064167508 & 744.6803495250339 & 712.0 & 680.7538299128412 & 650.8789001980358 & 622.3150338753804 & 595.0046948356808 & 568.8928719459424 & 543.9269682406123 & 520.0566949756701 & 497.2339703321652 & 475.4128225651539 & 454.5492974029529 & 434.6013695101844 & 415.5288578362696 & 397.293344678861 & 379.85809829918134 & 363.1879989333936 & 347.24946805096704 & 332.01040071754585 & 317.4401009260764 & 303.5092197659346 & 290.18969630550305 & 277.4547010691228 & 265.27858199456153 & 253.63681276214248 & 242.50594339145326 & 231.86355300612146 & 221.68820467151156 & 211.95940221437266 & 202.65754893745859 & 193.76390814596064 & 185.26056540623972 & 177.13039246083721 & 169.35701272707811 & 161.92476830976992 & 154.81868846155245 & 148.02445942736634 & 141.52839561230002 & 135.31741201473733 & 129.3789978692786 & 123.7011914463437 & 118.27255595769672 & 113.082156519358 & 108.11953812550044\\end{pmatrix} curie\\]"
      ],
      "text/latex": [
       "$\\begin{pmatrix}1019.5280898876404 & 974.7860279420429 & 932.007474532404 & 891.1062609484956 & 852.0 & 814.6099200642425 & 778.8607064167508 & 744.6803495250339 & 712.0 & 680.7538299128412 & 650.8789001980358 & 622.3150338753804 & 595.0046948356808 & 568.8928719459424 & 543.9269682406123 & 520.0566949756701 & 497.2339703321652 & 475.4128225651539 & 454.5492974029529 & 434.6013695101844 & 415.5288578362696 & 397.293344678861 & 379.85809829918134 & 363.1879989333936 & 347.24946805096704 & 332.01040071754585 & 317.4401009260764 & 303.5092197659346 & 290.18969630550305 & 277.4547010691228 & 265.27858199456153 & 253.63681276214248 & 242.50594339145326 & 231.86355300612146 & 221.68820467151156 & 211.95940221437266 & 202.65754893745859 & 193.76390814596064 & 185.26056540623972 & 177.13039246083721 & 169.35701272707811 & 161.92476830976992 & 154.81868846155245 & 148.02445942736634 & 141.52839561230002 & 135.31741201473733 & 129.3789978692786 & 123.7011914463437 & 118.27255595769672 & 113.082156519358 & 108.11953812550044\\end{pmatrix}\\ \\mathrm{curie}$"
      ],
      "text/plain": [
       "array([1019.52808989,  974.78602794,  932.00747453,  891.10626095,\n",
       "        852.        ,  814.60992006,  778.86070642,  744.68034953,\n",
       "        712.        ,  680.75382991,  650.8789002 ,  622.31503388,\n",
       "        595.00469484,  568.89287195,  543.92696824,  520.05669498,\n",
       "        497.23397033,  475.41282257,  454.5492974 ,  434.60136951,\n",
       "        415.52885784,  397.29334468,  379.8580983 ,  363.18799893,\n",
       "        347.24946805,  332.01040072,  317.44010093,  303.50921977,\n",
       "        290.18969631,  277.45470107,  265.27858199,  253.63681276,\n",
       "        242.50594339,  231.86355301,  221.68820467,  211.95940221,\n",
       "        202.65754894,  193.76390815,  185.26056541,  177.13039246,\n",
       "        169.35701273,  161.92476831,  154.81868846,  148.02445943,\n",
       "        141.52839561,  135.31741201,  129.37899787,  123.70119145,\n",
       "        118.27255596,  113.08215652,  108.11953813]) <Unit('curie')>"
      ]
     },
     "execution_count": 59,
     "metadata": {},
     "output_type": "execute_result"
    }
   ],
   "source": [
    "vector_a"
   ]
  },
  {
   "cell_type": "code",
   "execution_count": 60,
   "metadata": {},
   "outputs": [
    {
     "ename": "ValueError",
     "evalue": "setting an array element with a sequence.",
     "output_type": "error",
     "traceback": [
      "\u001b[0;31m---------------------------------------------------------------------------\u001b[0m",
      "\u001b[0;31mValueError\u001b[0m                                Traceback (most recent call last)",
      "\u001b[0;32m<ipython-input-60-4e4dff055747>\u001b[0m in \u001b[0;36m<module>\u001b[0;34m\u001b[0m\n\u001b[0;32m----> 1\u001b[0;31m \u001b[0ma\u001b[0m \u001b[0;34m=\u001b[0m \u001b[0mnp\u001b[0m\u001b[0;34m.\u001b[0m\u001b[0marray\u001b[0m\u001b[0;34m(\u001b[0m\u001b[0;34m[\u001b[0m\u001b[0mact\u001b[0m\u001b[0;34m(\u001b[0m\u001b[0mA0\u001b[0m\u001b[0;34m,\u001b[0m\u001b[0mctte_lambda\u001b[0m\u001b[0;34m,\u001b[0m\u001b[0mhoras\u001b[0m\u001b[0;34m)\u001b[0m \u001b[0;32mfor\u001b[0m \u001b[0mhoras\u001b[0m \u001b[0;32min\u001b[0m \u001b[0mt\u001b[0m\u001b[0;34m]\u001b[0m\u001b[0;34m)\u001b[0m\u001b[0;34m\u001b[0m\u001b[0m\n\u001b[0m",
      "\u001b[0;31mValueError\u001b[0m: setting an array element with a sequence."
     ]
    }
   ],
   "source": [
    "a = np.array([act(A0,ctte_lambda,horas) for horas in t])"
   ]
  },
  {
   "cell_type": "code",
   "execution_count": 36,
   "metadata": {},
   "outputs": [
    {
     "name": "stdout",
     "output_type": "stream",
     "text": [
      "1019.5280898876404 curie\n",
      "974.7860279420429 curie\n",
      "932.007474532404 curie\n",
      "891.1062609484956 curie\n",
      "852.0 curie\n",
      "814.6099200642425 curie\n",
      "778.8607064167508 curie\n",
      "744.6803495250339 curie\n",
      "712.0 curie\n",
      "680.7538299128412 curie\n",
      "650.8789001980358 curie\n",
      "622.3150338753804 curie\n",
      "595.0046948356808 curie\n",
      "568.8928719459424 curie\n",
      "543.9269682406123 curie\n",
      "520.0566949756701 curie\n",
      "497.2339703321652 curie\n",
      "475.4128225651539 curie\n",
      "454.5492974029529 curie\n",
      "434.6013695101844 curie\n",
      "415.5288578362696 curie\n",
      "397.293344678861 curie\n",
      "379.85809829918134 curie\n",
      "363.1879989333936 curie\n",
      "347.24946805096704 curie\n",
      "332.01040071754585 curie\n",
      "317.4401009260764 curie\n",
      "303.5092197659346 curie\n",
      "290.18969630550305 curie\n",
      "277.4547010691228 curie\n",
      "265.27858199456153 curie\n",
      "253.63681276214248 curie\n",
      "242.50594339145326 curie\n",
      "231.86355300612146 curie\n",
      "221.68820467151156 curie\n",
      "211.95940221437266 curie\n",
      "202.65754893745859 curie\n",
      "193.76390814596064 curie\n",
      "185.26056540623972 curie\n",
      "177.13039246083721 curie\n",
      "169.35701272707811 curie\n",
      "161.92476830976992 curie\n",
      "154.81868846155245 curie\n",
      "148.02445942736634 curie\n",
      "141.52839561230002 curie\n",
      "135.31741201473733 curie\n",
      "129.3789978692786 curie\n",
      "123.7011914463437 curie\n",
      "118.27255595769672 curie\n",
      "113.082156519358 curie\n",
      "108.11953812550044 curie\n"
     ]
    }
   ],
   "source": [
    "for horas in t:\n",
    "    # print(horas)\n",
    "    print(act(A0,ctte_lambda,horas))"
   ]
  },
  {
   "cell_type": "code",
   "execution_count": 37,
   "metadata": {},
   "outputs": [
    {
     "ename": "ValueError",
     "evalue": "setting an array element with a sequence.",
     "output_type": "error",
     "traceback": [
      "\u001b[0;31m---------------------------------------------------------------------------\u001b[0m",
      "\u001b[0;31mValueError\u001b[0m                                Traceback (most recent call last)",
      "\u001b[0;32m<ipython-input-37-6f54138cbf65>\u001b[0m in \u001b[0;36m<module>\u001b[0;34m\u001b[0m\n\u001b[0;32m----> 1\u001b[0;31m \u001b[0ma\u001b[0m \u001b[0;34m=\u001b[0m \u001b[0mnp\u001b[0m\u001b[0;34m.\u001b[0m\u001b[0marray\u001b[0m\u001b[0;34m(\u001b[0m\u001b[0;34m[\u001b[0m\u001b[0mact\u001b[0m\u001b[0;34m(\u001b[0m\u001b[0mA0\u001b[0m\u001b[0;34m,\u001b[0m\u001b[0mctte_lambda\u001b[0m\u001b[0;34m,\u001b[0m\u001b[0mhoras\u001b[0m\u001b[0;34m)\u001b[0m \u001b[0;32mfor\u001b[0m \u001b[0mhoras\u001b[0m \u001b[0;32min\u001b[0m \u001b[0mt\u001b[0m\u001b[0;34m]\u001b[0m\u001b[0;34m)\u001b[0m\u001b[0;34m\u001b[0m\u001b[0m\n\u001b[0m\u001b[1;32m      2\u001b[0m \u001b[0mplot\u001b[0m\u001b[0;34m(\u001b[0m\u001b[0mt\u001b[0m\u001b[0;34m,\u001b[0m\u001b[0ma\u001b[0m\u001b[0;34m)\u001b[0m\u001b[0;34m\u001b[0m\u001b[0m\n\u001b[1;32m      3\u001b[0m \u001b[0mplot\u001b[0m\u001b[0;34m(\u001b[0m\u001b[0mtiempo\u001b[0m\u001b[0;34m,\u001b[0m \u001b[0mactividad\u001b[0m\u001b[0;34m,\u001b[0m\u001b[0;34m'ro'\u001b[0m\u001b[0;34m)\u001b[0m\u001b[0;34m\u001b[0m\u001b[0m\n",
      "\u001b[0;31mValueError\u001b[0m: setting an array element with a sequence."
     ]
    }
   ],
   "source": [
    "a = np.array([act(A0,ctte_lambda,horas) for horas in t])\n",
    "plot(t,a)\n",
    "plot(tiempo, actividad,'ro')"
   ]
  },
  {
   "cell_type": "code",
   "execution_count": 38,
   "metadata": {},
   "outputs": [],
   "source": [
    "actividad = 10 * u('Ci')"
   ]
  },
  {
   "cell_type": "code",
   "execution_count": 39,
   "metadata": {},
   "outputs": [
    {
     "data": {
      "text/html": [
       "10 curie"
      ],
      "text/latex": [
       "$10\\ \\mathrm{curie}$"
      ],
      "text/plain": [
       "10 <Unit('curie')>"
      ]
     },
     "execution_count": 39,
     "metadata": {},
     "output_type": "execute_result"
    }
   ],
   "source": [
    "actividad"
   ]
  },
  {
   "cell_type": "code",
   "execution_count": 40,
   "metadata": {},
   "outputs": [
    {
     "data": {
      "text/html": [
       "370000000000.0 1/second"
      ],
      "text/latex": [
       "$370000000000.0\\ \\frac{1}{\\mathrm{second}}$"
      ],
      "text/plain": [
       "370000000000.0 <Unit('1 / second')>"
      ]
     },
     "execution_count": 40,
     "metadata": {},
     "output_type": "execute_result"
    }
   ],
   "source": [
    "actividad.to('1/s')"
   ]
  }
 ],
 "metadata": {
  "kernelspec": {
   "display_name": "Python 3",
   "language": "python",
   "name": "python3"
  },
  "language_info": {
   "codemirror_mode": {
    "name": "ipython",
    "version": 3
   },
   "file_extension": ".py",
   "mimetype": "text/x-python",
   "name": "python",
   "nbconvert_exporter": "python",
   "pygments_lexer": "ipython3",
   "version": "3.6.0"
  }
 },
 "nbformat": 4,
 "nbformat_minor": 1
}
