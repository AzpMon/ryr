{
 "cells": [
  {
   "cell_type": "markdown",
   "metadata": {},
   "source": [
    "# Ejercicio 10\n",
    "\n",
    "En una clínica de medicina nuclear se prepara a un paciente para la obtención de\n",
    "imágenes. Para ello se separa un volumen de 5 ml de solución con N-13 y se mide una\n",
    "concentración de actividad de 17 mCi/ml. Quince minutos después se administra a un\n",
    "paciente 3 ml de este preparado.\n",
    "\n",
    "1. ¿Cuánta masa de N-13 ingresa al paciente?\n",
    "2. Si se esperan 10 minutos antes de comenzar a tomar imágenes para que el radionucleido sea captado en el órgano que se desea ver, cuánta actividad quedará disponible en total en el paciente?\n",
    "3. Si cada imagen requiere 30 segundos, y por ubicación y geometría del detector sólo llega el 5% de las emisiones, ¿cuántas detecciones se producen para formar la imagen?"
   ]
  },
  {
   "cell_type": "markdown",
   "metadata": {},
   "source": [
    "## Parte 1\n",
    "\n",
    "## Actividad de la muestra\n",
    "\n",
    "Se inyectan 3 ml de solución con actividad de 17 mCi/ml. Primero calcularemos la actividad total administrada al paciente."
   ]
  },
  {
   "cell_type": "code",
   "execution_count": 1,
   "metadata": {},
   "outputs": [],
   "source": [
    "from pint import UnitRegistry\n",
    "import numpy as np\n",
    "u = UnitRegistry()\n",
    "u.load_definitions('./mis-defs.txt')    # carga de definiciones. agregamos la relación\n",
    "                                        # entre Curies y 1/tiempo.\n",
    "\n",
    "def mostrar(numero,precision=2):\n",
    "    '''Esta función permite darle formato científico a un número. El argumento\n",
    "    *precision* es el número de decimales con que se verá.\n",
    "    '''    \n",
    "    print( \"{:.{}e}\".format(numero, precision ) )"
   ]
  },
  {
   "cell_type": "code",
   "execution_count": 2,
   "metadata": {},
   "outputs": [],
   "source": [
    "## Primera parte"
   ]
  },
  {
   "cell_type": "code",
   "execution_count": 3,
   "metadata": {},
   "outputs": [
    {
     "data": {
      "text/html": [
       "51.0 millicurie"
      ],
      "text/latex": [
       "$51.0\\ \\mathrm{millicurie}$"
      ],
      "text/plain": [
       "51.0 <Unit('millicurie')>"
      ]
     },
     "execution_count": 3,
     "metadata": {},
     "output_type": "execute_result"
    }
   ],
   "source": [
    "vol = 3 * u('ml')\n",
    "a_esp = 17 * u('mCi/ml')\n",
    "A0 = vol * a_esp\n",
    "A0"
   ]
  },
  {
   "cell_type": "markdown",
   "metadata": {},
   "source": [
    "## Masa de N-13"
   ]
  },
  {
   "cell_type": "markdown",
   "metadata": {},
   "source": [
    "Para calcular la masa, se necesita saber el número de núcleos. Conocida la actividad, despejamos en ese mismo instante el número de nucleos (sólo se necesita buscar la constante de desintegración del radionucleido):\n",
    "\n",
    "$$N_0 = A_0 / \\lambda$$\n",
    "\n"
   ]
  },
  {
   "cell_type": "code",
   "execution_count": 4,
   "metadata": {},
   "outputs": [
    {
     "data": {
      "text/html": [
       "0.0695581716567933 1/minute"
      ],
      "text/latex": [
       "$0.0695581716567933\\ \\frac{1}{\\mathrm{minute}}$"
      ],
      "text/plain": [
       "0.0695581716567933 <Unit('1 / minute')>"
      ]
     },
     "execution_count": 4,
     "metadata": {},
     "output_type": "execute_result"
    }
   ],
   "source": [
    "tmedio_n13 = 9.965 * u('min')\n",
    "lmbd_n13 = np.log(2)/tmedio_n13\n",
    "lmbd_n13"
   ]
  },
  {
   "cell_type": "code",
   "execution_count": 5,
   "metadata": {
    "scrolled": true
   },
   "outputs": [
    {
     "data": {
      "text/html": [
       "733.1992602053846 millicurie minute"
      ],
      "text/latex": [
       "$733.1992602053846\\ \\mathrm{millicurie} \\cdot \\mathrm{minute}$"
      ],
      "text/plain": [
       "733.1992602053846 <Unit('millicurie * minute')>"
      ]
     },
     "execution_count": 5,
     "metadata": {},
     "output_type": "execute_result"
    }
   ],
   "source": [
    "N0 = A0 / lmbd_n13\n",
    "N0"
   ]
  },
  {
   "cell_type": "markdown",
   "metadata": {},
   "source": [
    "**Al mostrar N0 vemos que se podrían simplicar las unidades, ya que Ci es equivalente a una frecuencia (1/tiempo).**"
   ]
  },
  {
   "cell_type": "code",
   "execution_count": 6,
   "metadata": {},
   "outputs": [
    {
     "name": "stdout",
     "output_type": "stream",
     "text": [
      "1.63e+12 dimensionless\n"
     ]
    }
   ],
   "source": [
    "mostrar(N0.to(''))"
   ]
  },
  {
   "cell_type": "markdown",
   "metadata": {},
   "source": [
    "Para calcular la masa correspondiente a este número de átomos, tendremos que aplicar una regla de 3:\n",
    "\n",
    "| atomos | masa |\n",
    "| ------ | ---- |\n",
    "| 6.023e23 atomos | 13 grs |\n",
    "| 2.71e+12 atomos | x |"
   ]
  },
  {
   "cell_type": "code",
   "execution_count": 7,
   "metadata": {},
   "outputs": [
    {
     "name": "stdout",
     "output_type": "stream",
     "text": [
      "3.51e+01 picogram\n"
     ]
    }
   ],
   "source": [
    "m_mol = 13 * u('g')\n",
    "n_avogadro = 6.023e23\n",
    "mass_N13 = N0 * m_mol / n_avogadro\n",
    "mostrar(mass_N13.to('pg'))"
   ]
  },
  {
   "cell_type": "markdown",
   "metadata": {},
   "source": [
    "## Parte 2. Cálculo de la actividad tras 10 minutos."
   ]
  },
  {
   "cell_type": "markdown",
   "metadata": {},
   "source": [
    "La actividad inyectada al paciente va decayendo \"físicamente\", según la siguiente ecuación:\n",
    "    \n",
    "$$ A(t) = A_0 \\cdot e^{- \\lambda t}$$"
   ]
  },
  {
   "cell_type": "code",
   "execution_count": 8,
   "metadata": {},
   "outputs": [
    {
     "data": {
      "text/html": [
       "25.437994839319693 millicurie"
      ],
      "text/latex": [
       "$25.437994839319693\\ \\mathrm{millicurie}$"
      ],
      "text/plain": [
       "25.437994839319693 <Unit('millicurie')>"
      ]
     },
     "execution_count": 8,
     "metadata": {},
     "output_type": "execute_result"
    }
   ],
   "source": [
    "import math\n",
    "\n",
    "t = 10 * u('min')\n",
    "A = A0 * math.exp(- lmbd_n13 * t)\n",
    "A"
   ]
  },
  {
   "cell_type": "markdown",
   "metadata": {},
   "source": [
    "## Parte 3. Cantidad de detecciones."
   ]
  },
  {
   "cell_type": "markdown",
   "metadata": {},
   "source": [
    "Si cada imagen requiere 30 segundos, y por ubicación y geometría del detector sólo llega el 5% de las emisiones, ¿cuántas detecciones se producen para formar la imagen?"
   ]
  },
  {
   "cell_type": "markdown",
   "metadata": {},
   "source": [
    "![Nitrógeno 13](./imagenes/n13.png)"
   ]
  },
  {
   "cell_type": "markdown",
   "metadata": {},
   "source": [
    "El N-13 decae principalmente emitiendo partículas beta y fotones de aniquilación, y también por captura electrónica. Prácticamente cada nucleo decae emitiendo dos fotones de aniquilación. Para saber cuántos fotones se emitieron en 30 segundos tenemos dos opciones:\n",
    "\n",
    "1. cálculo \"exacto\": primero calcular el nro de nucleos de N-13 al inicio, restar la cantidad de nucleos del mismo radionucleido tras 30 segundos, y multiplicar el resultado por la frecuencia de emisión de los fotones. \n",
    "2. cálculo \"aproximado\": como 30 segundos es mucho menor que el semiperíodo de desintegración (9 minutos), podríamos suponer que la actividad es aproximadamente constante, y multiplicar A0*tiempo, para obtener el número de nucleos que decayeron en ese lapso, y finalmente multiplicar por la frecuencia de emisión de fotones."
   ]
  },
  {
   "cell_type": "markdown",
   "metadata": {},
   "source": [
    "### Cálculo exacto"
   ]
  },
  {
   "cell_type": "code",
   "execution_count": 9,
   "metadata": {},
   "outputs": [
    {
     "data": {
      "text/html": [
       "1572065465789.894 dimensionless"
      ],
      "text/latex": [
       "$1572065465789.894\\ dimensionless$"
      ],
      "text/plain": [
       "1572065465789.894 <Unit('dimensionless')>"
      ]
     },
     "execution_count": 9,
     "metadata": {},
     "output_type": "execute_result"
    }
   ],
   "source": [
    "t1 = 30 * u('s')\n",
    "Nf = N0 * math.exp(- lmbd_n13 * t1)\n",
    "Nf.to('')"
   ]
  },
  {
   "cell_type": "code",
   "execution_count": 10,
   "metadata": {},
   "outputs": [
    {
     "name": "stdout",
     "output_type": "stream",
     "text": [
      "5.56e+10 dimensionless\n"
     ]
    }
   ],
   "source": [
    "deltaN_exacto = N0-Nf\n",
    "mostrar(deltaN_exacto.to(''))"
   ]
  },
  {
   "cell_type": "markdown",
   "metadata": {},
   "source": [
    "### Cálculo aproximado"
   ]
  },
  {
   "cell_type": "code",
   "execution_count": 11,
   "metadata": {},
   "outputs": [
    {
     "name": "stdout",
     "output_type": "stream",
     "text": [
      "5.66e+10 dimensionless\n"
     ]
    }
   ],
   "source": [
    "deltaN_aprox = A0 * t1\n",
    "mostrar(deltaN_aprox.to(''))"
   ]
  },
  {
   "cell_type": "code",
   "execution_count": 12,
   "metadata": {},
   "outputs": [
    {
     "name": "stdout",
     "output_type": "stream",
     "text": [
      "-1.75e-02 dimensionless\n"
     ]
    }
   ],
   "source": [
    "error_porcentual = (deltaN_exacto - deltaN_aprox) / deltaN_exacto\n",
    "mostrar(error_porcentual)"
   ]
  },
  {
   "cell_type": "markdown",
   "metadata": {},
   "source": [
    "El error porcentual resulta ser menor al 2% (que sería: 2e-2)."
   ]
  },
  {
   "cell_type": "markdown",
   "metadata": {},
   "source": [
    "Hasta ahora solamente calculamos la cantidad de nucleos que decayeron de N-13 a C-13, falta considerar la frecuencia de emisión de los fotones (de aniquilación) para saber cuántos se produjeron.\n",
    "\n",
    "Por cada decaimiento se emitieron 2 fotones de aniquilación (cada uno de ellos a 180 grados del otro). Por la geometría del problema, solo uno de estos dos fotones llegará al detector. Y también por la geometría del problema, sólo el 5% de éstos serán detectados. "
   ]
  },
  {
   "cell_type": "code",
   "execution_count": 13,
   "metadata": {},
   "outputs": [],
   "source": [
    "detecciones = 0.05 * deltaN_exacto * 1      # sólo uno de los fotones puede salir \n",
    "                                            # en dirección al detector"
   ]
  },
  {
   "cell_type": "code",
   "execution_count": 14,
   "metadata": {},
   "outputs": [
    {
     "data": {
      "text/html": [
       "2781844593.302983 dimensionless"
      ],
      "text/latex": [
       "$2781844593.302983\\ dimensionless$"
      ],
      "text/plain": [
       "2781844593.302983 <Unit('dimensionless')>"
      ]
     },
     "execution_count": 14,
     "metadata": {},
     "output_type": "execute_result"
    }
   ],
   "source": [
    "detecciones.to('')"
   ]
  },
  {
   "cell_type": "code",
   "execution_count": 15,
   "metadata": {},
   "outputs": [
    {
     "name": "stdout",
     "output_type": "stream",
     "text": [
      "2.78e+09 dimensionless\n"
     ]
    }
   ],
   "source": [
    "mostrar(detecciones.to(''))"
   ]
  },
  {
   "cell_type": "code",
   "execution_count": null,
   "metadata": {},
   "outputs": [],
   "source": []
  }
 ],
 "metadata": {
  "kernelspec": {
   "display_name": "Python 3",
   "language": "python",
   "name": "python3"
  },
  "language_info": {
   "codemirror_mode": {
    "name": "ipython",
    "version": 3
   },
   "file_extension": ".py",
   "mimetype": "text/x-python",
   "name": "python",
   "nbconvert_exporter": "python",
   "pygments_lexer": "ipython3",
   "version": "3.6.0"
  }
 },
 "nbformat": 4,
 "nbformat_minor": 2
}
