{
 "cells": [
  {
   "cell_type": "code",
   "execution_count": 3,
   "metadata": {},
   "outputs": [],
   "source": [
    "from pint import UnitRegistry\n",
    "u = UnitRegistry()"
   ]
  },
  {
   "cell_type": "markdown",
   "metadata": {},
   "source": [
    "Calcular la caída de voltaje que se produce en un dosímetro de bolsillo de cámara de ionización que recibe una dosis de 0.5 mSv de fotones de 200 keV. Se considera que la capacidad de la cámara es de 500 pF. El volumen de aire contenido es de $10 \\, cm^3$. Suponga una eficiencia del dosímetro del 2% y que el gas está aislado. La energía de ionización del gas es 34 eV en CNPT."
   ]
  },
  {
   "cell_type": "markdown",
   "metadata": {},
   "source": [
    "Teniendo la dosis y la masa, se puede calcular la energía depositada. No importa para el cálculo que los fotones sean de 200 KeV (salvo que querramos calcular cuántos fotones interactúan o algo así)."
   ]
  },
  {
   "cell_type": "markdown",
   "metadata": {},
   "source": [
    "Masa del aire"
   ]
  },
  {
   "cell_type": "code",
   "execution_count": 7,
   "metadata": {},
   "outputs": [
    {
     "name": "stdout",
     "output_type": "stream",
     "text": [
      "12.250000000000004 milligram\n"
     ]
    }
   ],
   "source": [
    "def masa(volumen, densidad):\n",
    "    return densidad * volumen\n",
    "\n",
    "v = 10 * u('cm^3')\n",
    "d = 1.225 * u('kg/m^3')\n",
    "m = masa(v, d)\n",
    "print(m.to('mg'))"
   ]
  },
  {
   "cell_type": "code",
   "execution_count": 8,
   "metadata": {},
   "outputs": [],
   "source": [
    "def dosis(energia, masa):\n",
    "    return energia/masa\n",
    "\n",
    "def energia(dosis, masa):\n",
    "    return dosis * masa"
   ]
  },
  {
   "cell_type": "code",
   "execution_count": 10,
   "metadata": {},
   "outputs": [
    {
     "name": "stdout",
     "output_type": "stream",
     "text": [
      "38229245562.597275 electron_volt\n"
     ]
    }
   ],
   "source": [
    "d = 0.5 * u('mGy')\n",
    "e = energia(d, m)\n",
    "print(e.to('eV'))"
   ]
  },
  {
   "cell_type": "markdown",
   "metadata": {},
   "source": [
    "La cantidad de cargas que se produjeron en el detector es el total de cargas por la energía de ionización del aire"
   ]
  },
  {
   "cell_type": "code",
   "execution_count": 12,
   "metadata": {},
   "outputs": [
    {
     "name": "stdout",
     "output_type": "stream",
     "text": [
      "1124389575.3705082 dimensionless\n"
     ]
    }
   ],
   "source": [
    "e0 = 34 * u('eV')\n",
    "n = e/e0\n",
    "print(n.to(''))"
   ]
  },
  {
   "cell_type": "markdown",
   "metadata": {},
   "source": [
    "La carga eléctrica del electrón es $1.602 \\cdot 10^{−19} C$"
   ]
  },
  {
   "cell_type": "markdown",
   "metadata": {},
   "source": [
    "La cantidad de carga que los electrones liberados es $n \\cdot q_e$"
   ]
  },
  {
   "cell_type": "code",
   "execution_count": 19,
   "metadata": {},
   "outputs": [
    {
     "data": {
      "text/html": [
       "1.8012720997435537×10<sup>-10</sup> coulomb"
      ],
      "text/latex": [
       "$1.8012720997435537\\times 10^{-10}\\ \\mathrm{coulomb}$"
      ],
      "text/plain": [
       "1.8012720997435537e-10 <Unit('coulomb')>"
      ]
     },
     "execution_count": 19,
     "metadata": {},
     "output_type": "execute_result"
    }
   ],
   "source": [
    "qe = 1.602e-19 * u('coulomb')\n",
    "q = n * qe\n",
    "q.to('coulomb')"
   ]
  },
  {
   "cell_type": "markdown",
   "metadata": {},
   "source": [
    "El voltaje generado depende de la capacidad de la cámara"
   ]
  },
  {
   "cell_type": "code",
   "execution_count": 21,
   "metadata": {},
   "outputs": [
    {
     "data": {
      "text/html": [
       "360.2544199487108 millivolt"
      ],
      "text/latex": [
       "$360.2544199487108\\ \\mathrm{millivolt}$"
      ],
      "text/plain": [
       "360.2544199487108 <Unit('millivolt')>"
      ]
     },
     "execution_count": 21,
     "metadata": {},
     "output_type": "execute_result"
    }
   ],
   "source": [
    "C = 500 * u('pF')\n",
    "V = q / C\n",
    "V.to('mV')"
   ]
  },
  {
   "cell_type": "markdown",
   "metadata": {},
   "source": [
    "Problema b) Se carga inicialmente el dosímetro con 10 V. ¿Cuántos fotones deberán interactuar con el detector para disminuir el voltaje a la mitad? ¿A qué dosis corresponderá?"
   ]
  },
  {
   "cell_type": "code",
   "execution_count": 36,
   "metadata": {},
   "outputs": [],
   "source": [
    "V0 = 2.5 * u('V')\n",
    "q0 = C * V0"
   ]
  },
  {
   "cell_type": "code",
   "execution_count": 37,
   "metadata": {},
   "outputs": [],
   "source": [
    "n0 = q0 / qe # cantidad de pares de iones generados"
   ]
  },
  {
   "cell_type": "markdown",
   "metadata": {},
   "source": [
    "¿Cuántos pares de iones genera la interacción de 1 fotón?"
   ]
  },
  {
   "cell_type": "code",
   "execution_count": 38,
   "metadata": {},
   "outputs": [
    {
     "data": {
      "text/html": [
       "5882.352941176471 dimensionless"
      ],
      "text/latex": [
       "$5882.352941176471\\ dimensionless$"
      ],
      "text/plain": [
       "5882.352941176471 <Unit('dimensionless')>"
      ]
     },
     "execution_count": 38,
     "metadata": {},
     "output_type": "execute_result"
    }
   ],
   "source": [
    "e_foton = 200 * u('keV')\n",
    "iones_por_foton = e_foton / e0\n",
    "iones_por_foton.to('')"
   ]
  },
  {
   "cell_type": "code",
   "execution_count": 39,
   "metadata": {},
   "outputs": [
    {
     "data": {
      "text/html": [
       "1326466.9163545568 dimensionless"
      ],
      "text/latex": [
       "$1326466.9163545568\\ dimensionless$"
      ],
      "text/plain": [
       "1326466.9163545568 <Unit('dimensionless')>"
      ]
     },
     "execution_count": 39,
     "metadata": {},
     "output_type": "execute_result"
    }
   ],
   "source": [
    "fotones_que_interactuan = n0 / iones_por_foton\n",
    "fotones_que_interactuan.to('')"
   ]
  },
  {
   "cell_type": "code",
   "execution_count": 41,
   "metadata": {},
   "outputs": [
    {
     "data": {
      "text/html": [
       "3.4697700591097855 milliGy"
      ],
      "text/latex": [
       "$3.4697700591097855\\ \\mathrm{milliGy}$"
      ],
      "text/plain": [
       "3.4697700591097855 <Unit('milliGy')>"
      ]
     },
     "execution_count": 41,
     "metadata": {},
     "output_type": "execute_result"
    }
   ],
   "source": [
    "energia_depositada = fotones_que_interactuan * e_foton\n",
    "dosis = energia_depositada / m\n",
    "dosis.to('mGy')"
   ]
  },
  {
   "cell_type": "code",
   "execution_count": null,
   "metadata": {},
   "outputs": [],
   "source": []
  }
 ],
 "metadata": {
  "kernelspec": {
   "display_name": "Python 3",
   "language": "python",
   "name": "python3"
  },
  "language_info": {
   "codemirror_mode": {
    "name": "ipython",
    "version": 3
   },
   "file_extension": ".py",
   "mimetype": "text/x-python",
   "name": "python",
   "nbconvert_exporter": "python",
   "pygments_lexer": "ipython3",
   "version": "3.6.0"
  }
 },
 "nbformat": 4,
 "nbformat_minor": 2
}
