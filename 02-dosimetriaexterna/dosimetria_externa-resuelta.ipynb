{
 "cells": [
  {
   "cell_type": "code",
   "execution_count": 1,
   "metadata": {
    "scrolled": true
   },
   "outputs": [
    {
     "name": "stdout",
     "output_type": "stream",
     "text": [
      "Populating the interactive namespace from numpy and matplotlib\n"
     ]
    }
   ],
   "source": [
    "%pylab inline\n",
    "from pint import UnitRegistry\n",
    "u = UnitRegistry()"
   ]
  },
  {
   "cell_type": "markdown",
   "metadata": {},
   "source": [
    "# Dosimetría Externa"
   ]
  },
  {
   "cell_type": "markdown",
   "metadata": {},
   "source": [
    "**Problema 1**. Calcular la tasa de exposición que se tiene a 45 cm de una fuente de Au-198 cuya actividad es de 17,8 mCi. ¿Cuál será la tasa de exposición dos días más tarde?"
   ]
  },
  {
   "cell_type": "code",
   "execution_count": 2,
   "metadata": {},
   "outputs": [],
   "source": [
    "def tasaExposicion(actividad, ctteEspecifica, distancia):\n",
    "    return actividad * ctteEspecifica / distancia**2"
   ]
  },
  {
   "cell_type": "code",
   "execution_count": 3,
   "metadata": {},
   "outputs": [],
   "source": [
    "act = 17.8 * u('mCi')\n",
    "ctteAu198 = 0.238 * u('roentgen * m^2 / (Ci hour)')\n",
    "dist = 45 * u('cm')"
   ]
  },
  {
   "cell_type": "code",
   "execution_count": 6,
   "metadata": {},
   "outputs": [
    {
     "name": "stdout",
     "output_type": "stream",
     "text": [
      "0.0020920493827160493 meter ** 2 * millicurie * roentgen / centimeter ** 2 / curie / hour\n",
      "0.021 roentgen / hour\n"
     ]
    }
   ],
   "source": [
    "tasa_1 = tasaExposicion(act, ctteAu198, dist)\n",
    "print(tasa_1)\n",
    "print(tasa_1.to('roentgen/hour').round(3))"
   ]
  },
  {
   "cell_type": "markdown",
   "metadata": {},
   "source": [
    "**Problema 2**. En un punto P, a una distancia de 2,36 m de una fuente, se obtiene una tasa de exposición de 27,8 mR/h\n",
    "   + ¿Cuál será la tasa de exposición en un punto Q a 26 cm de P, alejándose de la fuente?"
   ]
  },
  {
   "cell_type": "markdown",
   "metadata": {},
   "source": [
    "La tasa de exposición se calcula según:\n",
    "$$\\dot X = \\frac{A \\Gamma}{d^2}$$"
   ]
  },
  {
   "cell_type": "markdown",
   "metadata": {},
   "source": [
    "Para la misma fuente, a dos distancias distintas, se obtiene:\n",
    "\n",
    "$$\\dot X_P = \\frac{A \\Gamma_{Au198}}{d_P^2}$$\n",
    "\n",
    "$$\\dot X_Q = \\frac{A \\Gamma_{Au198}}{d_Q^2}$$\n",
    "\n",
    "Dividiendo ambas expresiones:\n",
    "\n",
    "$$\\frac{\\dot X_P}{\\dot X_Q} = \\frac{d_Q^2}{d_P^2}$$"
   ]
  },
  {
   "cell_type": "code",
   "execution_count": 21,
   "metadata": {},
   "outputs": [
    {
     "name": "stdout",
     "output_type": "stream",
     "text": [
      "2.29 roentgen / hour\n"
     ]
    }
   ],
   "source": [
    "d_P = 2.36 * u('m')\n",
    "X_P = 27.8 * u('mroentgen/hour')\n",
    "d_Q = 26 * u('cm')\n",
    "\n",
    "X_Q = d_P**2 * X_P / d_Q**2\n",
    "print(X_Q.to('roentgen/hour').round(3))"
   ]
  },
  {
   "cell_type": "markdown",
   "metadata": {},
   "source": [
    "+ Suponiendo que la fuente tiene una energía de 900 keV, ¿cuál será la tasa de exposición en Q si se interpone un absorbente de Pb de 17 mm entre P y Q?"
   ]
  },
  {
   "cell_type": "markdown",
   "metadata": {},
   "source": [
    "Al interponer un absorbente se tiene un efecto semejante a reducir la actividad de la fuente. Se puede suponer que la ecuación toma la forma:\n",
    "$$\\dot X = \\frac{A \\Gamma}{d^2} \\cdot e^{-\\mu \\cdot x}$$\n",
    "\n",
    "Habrá que buscar el coeficiente de atenuación lineal para fotones de 900 KeV en plomo.\n",
    "Según la tabla tenemos los siguientes valores:\n",
    "\n",
    "| Energía MeV | $\\mu [cm^2/g]$ |\n",
    "| ----------- | --------- |\n",
    "| 8.00000E-01 | 8.870E-02 |\n",
    "| 1.00000E+00 | 7.102E-02 |"
   ]
  },
  {
   "cell_type": "code",
   "execution_count": 15,
   "metadata": {},
   "outputs": [],
   "source": [
    "mu_masico_900kev = (8.87e-2 + 7.10e-2)/2 * u('cm**2/g')\n",
    "\n",
    "rho_plomo = 1.135E+01 * u('g/cm^3')"
   ]
  },
  {
   "cell_type": "code",
   "execution_count": 25,
   "metadata": {},
   "outputs": [],
   "source": [
    "mu_lineal_900kev = mu_masico_900kev * rho_plomo"
   ]
  },
  {
   "cell_type": "code",
   "execution_count": 26,
   "metadata": {},
   "outputs": [
    {
     "data": {
      "text/html": [
       "0.49 roentgen/hour"
      ],
      "text/latex": [
       "$0.49\\ \\frac{\\mathrm{roentgen}}{\\mathrm{hour}}$"
      ],
      "text/plain": [
       "0.49 <Unit('roentgen / hour')>"
      ]
     },
     "execution_count": 26,
     "metadata": {},
     "output_type": "execute_result"
    }
   ],
   "source": [
    "espesorPb = 17 * u('mm')\n",
    "X_Q_conAbs = X_Q * exp(-mu_lineal_900kev * espesorPb)\n",
    "X_Q_conAbs.to('roentgen/hour').round(2)"
   ]
  },
  {
   "cell_type": "markdown",
   "metadata": {},
   "source": [
    "**Problema 3**. Una fuente de Co-60 da una tasa de 108 R/min a 50.5 cm.\n",
    "+ ¿Qué dosis acumulada se tendrá en 1 minuto 20 segundos en agua?\n",
    "+ ¿Cuál será la dosis acumulada en el mismo tiempo a 5 cm?\n"
   ]
  },
  {
   "cell_type": "markdown",
   "metadata": {},
   "source": [
    "**Problema 4**. Se tiene una fuente radiactiva que produce una tasa de exposición de 4,8 mR/h en un punto M a una distancia de 1,2 metros de la fuente.\n",
    "+ ¿Cuál será la tasa de exposición si se aleja el punto de medición 40 cm del anterior?\n",
    "+ ¿Cuánto habrá que alejarse de M para que la tasa de exposición sea de 2 [mR/h]?"
   ]
  },
  {
   "cell_type": "markdown",
   "metadata": {},
   "source": [
    "**Problema 5**. Se insertan semillas de Au-198 en músculo dejándolas decaer sin extraerlas.\n",
    "+ ¿Qué actividad inicial deberán tener las semillas si se desea obtener una dosis de 60 Gy a una distancia de 3.5 cm?\n",
    "+ Si llegan semillas con una actividad de 0.45 Ci, cuánto tiempo habrá que esperar para que la actividad sea la requerida?\n",
    "+ ¿Cuánto tiempo tendrá que transcurrir para obtener una dosis de 10 Gy a 15 cm del punto de emisión? Saque conclusiones."
   ]
  },
  {
   "cell_type": "markdown",
   "metadata": {},
   "source": [
    "**Problema 6**. En un implante con fuente de Ir-192 encapsulada se verifica que la dosis en la unidad de tiempo es de 0.6 cGy/min en un punto P.\n",
    "+ Calcule la dosis acumulada en 7 días en P.\n",
    "+ ¿Cuánto tiempo se necesitará para obtener 30 Gy en P?"
   ]
  },
  {
   "cell_type": "markdown",
   "metadata": {},
   "source": [
    "**Problema 7**. Se administra a un paciente por vía endovenosa 10 µCi de Fe-59. Calcular la dosis total absorbida. Asumir que el volumen total de sangre es de 5 litros y su densidad es de 1,055 g/cm3."
   ]
  },
  {
   "cell_type": "markdown",
   "metadata": {},
   "source": [
    "**Problema 8**. Un laboratorio recibe una muestra de Xenon-133 con una actividad de 40 mCi que será usado para evaluación de la función pulmonar. Su constante específica de radiación es de 0.51 R cm2 / (mCi h). La muestra se guarda durante dos días. En ese momento: ¿a qué distancia de la fuente se tendrá una tasa de exposición de 2 mR/min? ¿Cuánto tiempo deberá pasar para que la tasa de exposición en el mismo punto disminuya a la cuarta parte?"
   ]
  },
  {
   "cell_type": "markdown",
   "metadata": {},
   "source": [
    "**Problema 9**. En un Centro de Radiodiagnóstico se realiza un estudio de tiroides utilizando I-131. De la actividad suministrada al paciente, el 80% se fija uniformemente en la tiroides, recibiendo el órgano una dosis de 50 mGy. El peso promedio de la tiroides es de 100 g. Considerando que toda la energía de desintegración del radioisótopo se deposita en la glándula, calcule la actividad y masa del radionucleido suministrado. ¿Cuál será la tasa de exposición que se mide fuera del contenedor del radioisótopo, si luego de realizar el estudio quedaban 15 mCi de I-131? Suponga que el recipiente es cilíndrico, construido en plomo, con un radio interno de 15 cm y una pared de 4 cm de espesor."
   ]
  },
  {
   "cell_type": "markdown",
   "metadata": {},
   "source": [
    "**Problema 10**. En un Centro de Radiodiagnóstico se realizan rutinas de calibración de la Cámara Gamma. Para tal fin se realiza una serie de pruebas en un fantomas esférico para obtener la eficiencia del sistema de detección. Para ello se inyecta Tc-99m y se verifica que la dosis media depositada en los 500 g de fantomas es de 0,2 mGy al cabo de 4 hs. El Tc-99m emite, entre otros, fotones de 140 keV con una probabilidad de emisión de 88.3%. La fracción de absorción de estos fotones en el medio es de 0.2 para estos fotones.\n",
    "+ ¿Cuál debería ser la actividad detectada por el equipo?\n",
    "+ ¿Cuál será la masa en gramos del radionucleido administrado?"
   ]
  },
  {
   "cell_type": "markdown",
   "metadata": {},
   "source": [
    "**Problema 11**. En la calibración de un equipo de Co-60 se utilizó un fantomas de acrílico con agua, en el cual se colocó un detector a 5 cm de profundidad (d). Se realizaron las irradiaciones a una distancia fuente–superficie (DFS) de 100 cm,  y se obtuvo una dosis promedio de 0,7 Gy.\n",
    "+ ¿Cuál será la actividad de la pastilla de cobalto?\n",
    "+ ¿Cuál será la tasa de exposición que entrega el equipo en la superficie del fantoma?\n"
   ]
  },
  {
   "cell_type": "markdown",
   "metadata": {},
   "source": [
    "En la tabla con valores de $f_\\lambda$ la primera columna indica el HVL (en distintos materiales) de la radiacion, y la segunda columna muestra la energía de esta radiación. Por ejemplo, ¿es 1 mm de aluminio realmente equivalente a decir 20 keV?"
   ]
  },
  {
   "cell_type": "markdown",
   "metadata": {},
   "source": [
    "La densidad del aluminio es de $2.699 [g/cm^3]$ [(Ver tabla)](http://physics.nist.gov/PhysRefData/XrayMassCoef/tab1.html). El coeficiente de atenuación se puede obtener de [esta otra tabla](http://physics.nist.gov/PhysRefData/XrayMassCoef/ElemTab/z13.html). Para fotones de 20 KeV se tiene que $\\mu/\\rho = 3.441[cm^2/g]$. De aquí se puede despejar el coeficiente de atenuación lineal ($\\mu$) para fotones de esta energía."
   ]
  },
  {
   "cell_type": "code",
   "execution_count": null,
   "metadata": {},
   "outputs": [],
   "source": [
    "# defino los valores encontrados en la tabla\n",
    "mu_rhoAl_20KeV = 3.441\n",
    "densAl = 2.699\n",
    "\n",
    "# multiplico y muestro el resultado\n",
    "muAl_20KeV = mu_rhoAl * densAl\n",
    "print muAl_20KeV\n"
   ]
  },
  {
   "cell_type": "markdown",
   "metadata": {},
   "source": [
    "Ahora calculamos el HVL para fotones de 20 KeV en aluminio como $HVL = \\ln(2) / \\mu$"
   ]
  },
  {
   "cell_type": "code",
   "execution_count": null,
   "metadata": {},
   "outputs": [],
   "source": [
    "HVL = np.log(2) / muAl_20KeV # la funcion log (de numpy) es el logaritmo natural\n",
    "                             # en base 10 la funcion es log10(x)\n",
    "print HVL"
   ]
  },
  {
   "cell_type": "markdown",
   "metadata": {},
   "source": [
    "Este valor está dado en cm. Entonces el HVL(20 KeV) = 0.75 mm de aluminio. Por ende, hay una diferencia con el valor citado en la tabla, que desconozco de dónde proviene."
   ]
  },
  {
   "cell_type": "code",
   "execution_count": null,
   "metadata": {},
   "outputs": [],
   "source": []
  }
 ],
 "metadata": {
  "kernelspec": {
   "display_name": "Python 3",
   "language": "python",
   "name": "python3"
  },
  "language_info": {
   "codemirror_mode": {
    "name": "ipython",
    "version": 3
   },
   "file_extension": ".py",
   "mimetype": "text/x-python",
   "name": "python",
   "nbconvert_exporter": "python",
   "pygments_lexer": "ipython3",
   "version": "3.6.0"
  }
 },
 "nbformat": 4,
 "nbformat_minor": 1
}
