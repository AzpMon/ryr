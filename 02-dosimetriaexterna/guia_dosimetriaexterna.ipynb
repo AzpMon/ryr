{
 "cells": [
  {
   "cell_type": "markdown",
   "metadata": {},
   "source": [
    "Jupyter Notebook\n",
    "=========\n",
    "\n",
    "# Otra muestra de un título principal\n",
    "\n",
    "\n",
    "**El Jupyter Notebook es un entorno computacional interactivo situado en la web (accesible a través de un navegador) donde se pueden combinar código (Python), texto normal, fórmulas, gráficas matemáticas, imágenes y videos en un solo documento**"
   ]
  },
  {
   "cell_type": "markdown",
   "metadata": {},
   "source": [
    "* USO BÁSICO\n",
    "    - celdas (texto y python)\n",
    "        - escritura en markup \n",
    "            1. títulos\n",
    "            2. links\n",
    "                - [sintaxis markup](http://daringfireball.net/projects/markdown/syntax)\n",
    "            3. *cursiva*\n",
    "            7. **negrita**\n",
    "            8. ***negrita-cursiva***\n",
    "            9. listas numeradas"
   ]
  },
  {
   "cell_type": "markdown",
   "metadata": {},
   "source": [
    "## Imagenes"
   ]
  },
  {
   "cell_type": "code",
   "execution_count": 1,
   "metadata": {
    "collapsed": true
   },
   "outputs": [],
   "source": [
    "from IPython.display import Image\n",
    "from IPython.display import display\n",
    "\n",
    "i1 = Image(filename='./co60.png')\n",
    "i2 = Image(filename='./control.jpg')\n",
    "i3 = Image(url='http://upload.wikimedia.org/wikipedia/commons/thumb/4/4d/Dosimeter_sosna_front.jpg/296px-Dosimeter_sosna_front.jpg')"
   ]
  },
  {
   "cell_type": "code",
   "execution_count": 2,
   "metadata": {
    "scrolled": true
   },
   "outputs": [
    {
     "data": {
      "image/png": "[encoded data removed]",
      "text/plain": [
       "<IPython.core.display.Image object>"
      ]
     },
     "metadata": {},
     "output_type": "display_data"
    }
   ],
   "source": [
    "display(i1)"
   ]
  },
  {
   "cell_type": "code",
   "execution_count": 3,
   "metadata": {
    "scrolled": true
   },
   "outputs": [
    {
     "data": {
      "image/jpeg": "[encoded data removed]",
      "text/plain": [
       "<IPython.core.display.Image object>"
      ]
     },
     "metadata": {},
     "output_type": "display_data"
    }
   ],
   "source": [
    "display(i2)"
   ]
  },
  {
   "cell_type": "code",
   "execution_count": 4,
   "metadata": {},
   "outputs": [
    {
     "data": {
      "text/html": [
       "<img src=\"http://upload.wikimedia.org/wikipedia/commons/thumb/4/4d/Dosimeter_sosna_front.jpg/296px-Dosimeter_sosna_front.jpg\"/>"
      ],
      "text/plain": [
       "<IPython.core.display.Image object>"
      ]
     },
     "metadata": {},
     "output_type": "display_data"
    }
   ],
   "source": [
    "display(i3)"
   ]
  },
  {
   "cell_type": "code",
   "execution_count": 5,
   "metadata": {},
   "outputs": [
    {
     "name": "stdout",
     "output_type": "stream",
     "text": [
      "Populating the interactive namespace from numpy and matplotlib\n"
     ]
    }
   ],
   "source": [
    "%pylab inline\n",
    "import numpy as np"
   ]
  },
  {
   "cell_type": "markdown",
   "metadata": {},
   "source": [
    "En la tabla con valores de $f_\\lambda$ la primera columna indica el HVL (en distintos materiales) de la radiacion, y la segunda columna muestra la energía de esta radiación. Por ejemplo, ¿es 1 mm de aluminio realmente equivalente a decir 20 keV?"
   ]
  },
  {
   "cell_type": "markdown",
   "metadata": {},
   "source": [
    "La densidad del aluminio es de $2.699 [g/cm^3]$ [(Ver tabla)](http://physics.nist.gov/PhysRefData/XrayMassCoef/tab1.html). El coeficiente de atenuación se puede obtener de [esta otra tabla](http://physics.nist.gov/PhysRefData/XrayMassCoef/ElemTab/z13.html). Para fotones de 20 KeV se tiene que $\\mu/\\rho = 3.441[cm^2/g]$. De aquí se puede despejar el coeficiente de atenuación lineal ($\\mu$) para fotones de esta energía."
   ]
  },
  {
   "cell_type": "code",
   "execution_count": 6,
   "metadata": {},
   "outputs": [
    {
     "name": "stdout",
     "output_type": "stream",
     "text": [
      "9.287258999999999\n"
     ]
    }
   ],
   "source": [
    "# defino los valores encontrados en la tabla\n",
    "mu_rhoAl_20KeV = 3.441\n",
    "densAl = 2.699\n",
    "\n",
    "# multiplico y muestro el resultado\n",
    "muAl_20KeV = mu_rhoAl_20KeV * densAl\n",
    "print(muAl_20KeV)\n"
   ]
  },
  {
   "cell_type": "markdown",
   "metadata": {},
   "source": [
    "Ahora calculamos el HVL para fotones de 20 KeV en aluminio como $HVL = \\ln(2) / \\mu$"
   ]
  },
  {
   "cell_type": "code",
   "execution_count": 7,
   "metadata": {},
   "outputs": [
    {
     "name": "stdout",
     "output_type": "stream",
     "text": [
      "0.0746342037581\n"
     ]
    }
   ],
   "source": [
    "HVL = np.log(2) / muAl_20KeV # la funcion log (de numpy) es el logaritmo natural\n",
    "                             # en base 10 la funcion es log10(x)\n",
    "print(HVL)"
   ]
  },
  {
   "cell_type": "markdown",
   "metadata": {},
   "source": [
    "Este valor está dado en cm. Entonces el HVL(20 KeV) = 0.75 mm de aluminio. Por ende, hay una diferencia con el valor citado en la tabla, que desconozco de dónde proviene."
   ]
  },
  {
   "cell_type": "code",
   "execution_count": 8,
   "metadata": {
    "collapsed": true
   },
   "outputs": [],
   "source": [
    "x = np.linspace(0, 100, 101)\n",
    "y1 = x ** 2\n",
    "y2 = 100 * x\n"
   ]
  },
  {
   "cell_type": "code",
   "execution_count": 9,
   "metadata": {},
   "outputs": [
    {
     "data": {
      "text/plain": [
       "<matplotlib.legend.Legend at 0x7f994e04dcf8>"
      ]
     },
     "execution_count": 9,
     "metadata": {},
     "output_type": "execute_result"
    },
    {
     "data": {
      "image/png": "[encoded data removed]",
      "text/plain": [
       "<matplotlib.figure.Figure at 0x7f992195b400>"
      ]
     },
     "metadata": {},
     "output_type": "display_data"
    }
   ],
   "source": [
    "plot?\n",
    "plot(x, y1, 'gd', label='$X^2$')\n",
    "plot(x, y2, 'ro', label='$100 \\cdot x$', lw=3)\n",
    "legend()\n"
   ]
  },
  {
   "cell_type": "markdown",
   "metadata": {
    "collapsed": true
   },
   "source": [
    "hola"
   ]
  }
 ],
 "metadata": {
  "kernelspec": {
   "display_name": "Python 3",
   "language": "python",
   "name": "python3"
  },
  "language_info": {
   "codemirror_mode": {
    "name": "ipython",
    "version": 3
   },
   "file_extension": ".py",
   "mimetype": "text/x-python",
   "name": "python",
   "nbconvert_exporter": "python",
   "pygments_lexer": "ipython3",
   "version": "3.6.0"
  }
 },
 "nbformat": 4,
 "nbformat_minor": 1
}
