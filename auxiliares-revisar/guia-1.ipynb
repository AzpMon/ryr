{
 "cells": [
  {
   "cell_type": "markdown",
   "metadata": {},
   "source": [
    "## Librerías / Configuración"
   ]
  },
  {
   "cell_type": "code",
   "execution_count": 7,
   "metadata": {},
   "outputs": [],
   "source": [
    "import math\n",
    "\n",
    "import matplotlib.pyplot as plt\n",
    "%matplotlib inline\n",
    "\n",
    "import numpy as np\n",
    "\n",
    "from pint import UnitRegistry\n",
    "\n",
    "u = UnitRegistry()\n",
    "u.setup_matplotlib(True)\n",
    "u.load_definitions('./mis-defs.txt') "
   ]
  },
  {
   "cell_type": "markdown",
   "metadata": {},
   "source": [
    "## Definición de funciones: ley de decaimiento, actividad, etc"
   ]
  },
  {
   "cell_type": "code",
   "execution_count": 8,
   "metadata": {},
   "outputs": [],
   "source": [
    "def nucleos_radiactivos(nuc_inicio, ti, tf, lmbd):\n",
    "    \"\"\"\n",
    "Ley de decaimiento radiactivo.\n",
    "\n",
    ":param nuc_inicio: es el número de nucleos radiactivos en el momento inicial\n",
    ":param ti: es el tiempo de referencia, en el cual hay un número de nucleos igual a nuc_inicio \n",
    ":param tf: es el tiempo en el cual se calcula el número de nucleos actual \n",
    ":returns: el número de nucleos en el tiempo tf\n",
    "\"\"\"\n",
    "    return nuc_inicio * math.exp(-lmbd*(tf-ti))\n",
    "\n",
    "def actividad(t_ref, act_ref, t, lmbd):\n",
    "    delta_t = t-t_ref\n",
    "    return act_ref * math.exp(-lmbd*delta_t)\n",
    "\n",
    "def despejar_lmbd(ti, valor_inicial, tf, valor_final):\n",
    "    # obtiene lambda a partir de pares de valor de tiempo y nucleos radiactivos / tiempo y actividad\n",
    "    # por ejemplo: ti = 4, tf = 8, act_i = 852, act_f = 712 ===> lmbd = \n",
    "    return (1/(ti-tf))*math.log(valor_final/valor_inicial)\n",
    "\n",
    "def obtener_semiperiodo(lmbd):\n",
    "    return math.log(2)/lmbd\n",
    "\n",
    "def obtener_lmbd(semiperiodo):\n",
    "    return math.log(2)/semiperiodo"
   ]
  },
  {
   "cell_type": "markdown",
   "metadata": {},
   "source": [
    "## Ejemplo"
   ]
  },
  {
   "cell_type": "markdown",
   "metadata": {},
   "source": [
    "### Obtener el valor de la constante de decaimiento a partir de dos puntos de la tabla."
   ]
  },
  {
   "cell_type": "code",
   "execution_count": 9,
   "metadata": {},
   "outputs": [
    {
     "data": {
      "text/html": [
       "0.044877153854335 1/hour"
      ],
      "text/latex": [
       "$0.044877153854335\\ \\frac{1}{\\mathrm{hour}}$"
      ],
      "text/plain": [
       "0.044877153854335 <Unit('1 / hour')>"
      ]
     },
     "execution_count": 9,
     "metadata": {},
     "output_type": "execute_result"
    }
   ],
   "source": [
    "ti = 4 * u.hours\n",
    "act_i = 852 * u.cpm\n",
    "\n",
    "tf = 8 * u.hours\n",
    "act_f = 712 * u.cpm\n",
    "\n",
    "lmbd_a = despejar_lmbd(ti, act_i, tf, act_f)\n",
    "lmbd_a"
   ]
  },
  {
   "cell_type": "markdown",
   "metadata": {},
   "source": [
    "### Obtener el valor de la constante de decaimiento a partir de **otros** dos puntos de la tabla."
   ]
  },
  {
   "cell_type": "code",
   "execution_count": 10,
   "metadata": {},
   "outputs": [
    {
     "data": {
      "text/html": [
       "0.045096764012075435 1/hour"
      ],
      "text/latex": [
       "$0.045096764012075435\\ \\frac{1}{\\mathrm{hour}}$"
      ],
      "text/plain": [
       "0.045096764012075435 <Unit('1 / hour')>"
      ]
     },
     "execution_count": 10,
     "metadata": {},
     "output_type": "execute_result"
    }
   ],
   "source": [
    "ti = 30 * u.hours\n",
    "act_i = 264 * u.cpm\n",
    "\n",
    "tf = 8 * u.hours\n",
    "act_f = 712 * u.cpm\n",
    "\n",
    "lmbd_b = despejar_lmbd(ti, act_i, tf, act_f)\n",
    "lmbd_b"
   ]
  },
  {
   "cell_type": "markdown",
   "metadata": {},
   "source": [
    "### Calcular la actividad inicial de la muestra, y expresarla en Bq, Ci y CPM"
   ]
  },
  {
   "cell_type": "code",
   "execution_count": 11,
   "metadata": {},
   "outputs": [
    {
     "data": {
      "text/plain": [
       "(61225.44469589316 <Unit('Bq')>,\n",
       " 1.654741748537653e-06 <Unit('curie')>,\n",
       " 1020.424078264886 <Unit('cpm')>)"
      ]
     },
     "execution_count": 11,
     "metadata": {},
     "output_type": "execute_result"
    }
   ],
   "source": [
    "t = 0 \n",
    "\n",
    "t_ref = 8 * u.hours\n",
    "act_ref = 712 * u.cpm\n",
    "\n",
    "lmbd = (lmbd_a + lmbd_b)/2\n",
    "\n",
    "a0 = actividad(t_ref, act_ref, t, lmbd)\n",
    "a0.to('Bq'), a0.to('Ci'), a0.to('cpm')"
   ]
  },
  {
   "cell_type": "markdown",
   "metadata": {},
   "source": [
    "### Graficar la actividad y el número de nucleos en función del tiempo"
   ]
  },
  {
   "cell_type": "markdown",
   "metadata": {},
   "source": [
    "#### Generación de un vector con los tiempos, y la referencia (t0) cambiada a t=4 horas."
   ]
  },
  {
   "cell_type": "code",
   "execution_count": 12,
   "metadata": {},
   "outputs": [
    {
     "data": {
      "text/plain": [
       "(array([-4., -3., -2., -1.,  0.,  1.,  2.,  3.,  4.,  5.,  6.,  7.,  8.,\n",
       "         9., 10., 11., 12., 13., 14., 15., 16., 17., 18., 19., 20., 21.,\n",
       "        22., 23., 24., 25., 26.]) <Unit('hour')>,\n",
       " array([-4., -3., -2., -1.,  0.,  1.,  2.,  3.,  4.,  5.,  6.,  7.,  8.,\n",
       "         9., 10., 11., 12., 13., 14., 15., 16., 17., 18., 19., 20., 21.,\n",
       "        22., 23., 24., 25., 26.]))"
      ]
     },
     "execution_count": 12,
     "metadata": {},
     "output_type": "execute_result"
    }
   ],
   "source": [
    "tiempo = np.linspace(-4, 26, 31) * u('hours')\n",
    "tiempo, tiempo.magnitude"
   ]
  },
  {
   "cell_type": "markdown",
   "metadata": {},
   "source": [
    "#### Generación de un vector con igual cantidad de elementos que tiempo, pero todos ceros."
   ]
  },
  {
   "cell_type": "code",
   "execution_count": 13,
   "metadata": {},
   "outputs": [
    {
     "name": "stderr",
     "output_type": "stream",
     "text": [
      "/home/diego/.pyenv/versions/3.6.0/envs/adq/lib/python3.6/site-packages/pint/quantity.py:1377: UnitStrippedWarning: The unit of the quantity is stripped.\n",
      "  warnings.warn(\"The unit of the quantity is stripped.\", UnitStrippedWarning)\n"
     ]
    },
    {
     "data": {
      "text/plain": [
       "array([0., 0., 0., 0., 0., 0., 0., 0., 0., 0., 0., 0., 0., 0., 0., 0., 0.,\n",
       "       0., 0., 0., 0., 0., 0., 0., 0., 0., 0., 0., 0., 0., 0.])"
      ]
     },
     "execution_count": 13,
     "metadata": {},
     "output_type": "execute_result"
    }
   ],
   "source": [
    "a = np.zeros_like(tiempo)\n",
    "a\n"
   ]
  },
  {
   "cell_type": "markdown",
   "metadata": {},
   "source": [
    "#### Cálculo de los elementos del vector actividad"
   ]
  },
  {
   "cell_type": "code",
   "execution_count": 19,
   "metadata": {},
   "outputs": [
    {
     "name": "stdout",
     "output_type": "stream",
     "text": [
      "0\n",
      "-4.0 hour\n",
      "1\n",
      "-3.0 hour\n",
      "2\n",
      "-2.0 hour\n",
      "3\n",
      "-1.0 hour\n",
      "4\n",
      "0.0 hour\n",
      "5\n",
      "1.0 hour\n",
      "6\n",
      "2.0 hour\n",
      "7\n",
      "3.0 hour\n",
      "8\n",
      "4.0 hour\n",
      "9\n",
      "5.0 hour\n",
      "10\n",
      "6.0 hour\n",
      "11\n",
      "7.0 hour\n",
      "12\n",
      "8.0 hour\n",
      "13\n",
      "9.0 hour\n",
      "14\n",
      "10.0 hour\n",
      "15\n",
      "11.0 hour\n",
      "16\n",
      "12.0 hour\n",
      "17\n",
      "13.0 hour\n",
      "18\n",
      "14.0 hour\n",
      "19\n",
      "15.0 hour\n",
      "20\n",
      "16.0 hour\n",
      "21\n",
      "17.0 hour\n",
      "22\n",
      "18.0 hour\n",
      "23\n",
      "19.0 hour\n",
      "24\n",
      "20.0 hour\n",
      "25\n",
      "21.0 hour\n",
      "26\n",
      "22.0 hour\n",
      "27\n",
      "23.0 hour\n",
      "28\n",
      "24.0 hour\n",
      "29\n",
      "25.0 hour\n",
      "30\n",
      "26.0 hour\n"
     ]
    },
    {
     "data": {
      "text/plain": [
       "array([1019.97598569,  975.10719021,  932.21217532,  891.20411431,\n",
       "        852.        ,  814.52047667,  778.68967947,  744.43508087,\n",
       "        711.6873438 ,  680.38018135,  650.45022257,  621.8368842 ,\n",
       "        594.48224804,  568.33094371,  543.33003659,  519.42892065,\n",
       "        496.57921602,  474.73467105,  453.85106872,  433.88613713,\n",
       "        414.79946389,  396.55241438,  379.1080535 ,  362.43107095,\n",
       "        346.4877097 ,  331.24569773,  316.67418264,  302.74366924,\n",
       "        289.42595983,  276.69409714,  264.52230974])"
      ]
     },
     "execution_count": 19,
     "metadata": {},
     "output_type": "execute_result"
    }
   ],
   "source": [
    "act_inicial = 852 * u('cpm')\n",
    "t_inicial = 0 * u('hours')\n",
    "t = 11 * u('hours')\n",
    "# lambda ya fue calculado antes, así que no la redefino\n",
    "\n",
    "for n,t in enumerate(tiempo):\n",
    "    print(n), print(t)\n",
    "    a[n] = actividad(t_inicial, act_inicial, t, lmbd).magnitude\n",
    "    \n",
    "a"
   ]
  },
  {
   "cell_type": "markdown",
   "metadata": {},
   "source": [
    "#### Gráfica"
   ]
  },
  {
   "cell_type": "code",
   "execution_count": 16,
   "metadata": {},
   "outputs": [
    {
     "data": {
      "image/png": "[encoded data removed]",
      "text/plain": [
       "<Figure size 432x288 with 1 Axes>"
      ]
     },
     "metadata": {},
     "output_type": "display_data"
    }
   ],
   "source": [
    "plt.plot(tiempo, a, label='actividad')\n",
    "\n",
    "plt.xlabel('horas')\n",
    "plt.ylabel('cpm')\n",
    "\n",
    "plt.title(\"$A(t) = A_0 * e^{-\\lambda (t-t_0)}$\");"
   ]
  },
  {
   "cell_type": "code",
   "execution_count": null,
   "metadata": {},
   "outputs": [],
   "source": []
  }
 ],
 "metadata": {
  "kernelspec": {
   "display_name": "Python 3",
   "language": "python",
   "name": "python3"
  },
  "language_info": {
   "codemirror_mode": {
    "name": "ipython",
    "version": 3
   },
   "file_extension": ".py",
   "mimetype": "text/x-python",
   "name": "python",
   "nbconvert_exporter": "python",
   "pygments_lexer": "ipython3",
   "version": "3.6.0"
  }
 },
 "nbformat": 4,
 "nbformat_minor": 2
}
