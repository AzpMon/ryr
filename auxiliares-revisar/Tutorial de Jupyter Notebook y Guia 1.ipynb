{
 "cells": [
  {
   "cell_type": "markdown",
   "metadata": {},
   "source": [
    "# Guía 1: Ejercicio 1\n",
    "\n",
    "Se tiene una muestra que contiene un isótopo radiactivo desconocido. Se realizan mediciones de la actividad con un instrumento de detección cuya eficiencia es del 100%. Se obtiene la siguiente tabla:\n",
    "\n",
    "| Tiempo [min]  |   Actividad [MBq]|\n",
    "| -- | ---- |\n",
    "| 5  | 40.4 |\n",
    "| 10 | 28.3 |\n",
    "| 15 | 19.8 |\n",
    "| 20 | 13.9 |\n",
    "| 25 | 9.7  |\n",
    "\n",
    "\n",
    "1. ¿Cuál es la actividad extrapolada a tiempo cero (en cpm, Ci, Bq)?\n",
    "2. ¿Cuáles podrían ser los radioisótopos contenidos en la muestra?\n",
    "3. ¿En cuánto tiempo la actividad decaerá a 1.0 MBq?\n",
    "4. ¿Cuántos núcleos del radioisótopo había a tiempo cero? ¿Cuánta masa poseían en ese momento? \n",
    "5. ¿Cuántos átomos tendrá la muestra a los 25 minutos? ¿Qué elementos contendrá y en qué proporción?\n"
   ]
  },
  {
   "cell_type": "markdown",
   "metadata": {},
   "source": [
    "# Jupyter Notebook\n",
    "\n",
    "- qué es el jupyter notebook (servidor, intérprete de lenguaje, repl)\n",
    "- repl: read–eval–print loop\n",
    "- tipos de celdas\n",
    "- elementos básicos de texto enriquecido\n",
    "- latex\n",
    "- atajos de teclado"
   ]
  },
  {
   "cell_type": "markdown",
   "metadata": {},
   "source": [
    "# Variables, tipos y operaciones básicas en Python"
   ]
  },
  {
   "cell_type": "markdown",
   "metadata": {},
   "source": [
    "No es necesario declarar el tipo de variable antes de definirla.  "
   ]
  },
  {
   "cell_type": "code",
   "execution_count": null,
   "metadata": {},
   "outputs": [],
   "source": [
    "actividad = 10"
   ]
  },
  {
   "cell_type": "code",
   "execution_count": null,
   "metadata": {},
   "outputs": [],
   "source": [
    "actividad"
   ]
  },
  {
   "cell_type": "code",
   "execution_count": null,
   "metadata": {},
   "outputs": [],
   "source": [
    "print(actividad)"
   ]
  },
  {
   "cell_type": "code",
   "execution_count": null,
   "metadata": {
    "scrolled": true
   },
   "outputs": [],
   "source": [
    "type(actividad)"
   ]
  },
  {
   "cell_type": "code",
   "execution_count": null,
   "metadata": {},
   "outputs": [],
   "source": [
    "actividad = '10 Curies'"
   ]
  },
  {
   "cell_type": "code",
   "execution_count": null,
   "metadata": {},
   "outputs": [],
   "source": [
    "type(actividad)"
   ]
  },
  {
   "cell_type": "markdown",
   "metadata": {},
   "source": [
    "## Python como calculadora\n",
    "\n",
    "### Suma, resta, multiplicación, división"
   ]
  },
  {
   "cell_type": "code",
   "execution_count": null,
   "metadata": {},
   "outputs": [],
   "source": [
    "delta_t = t2 - t1"
   ]
  },
  {
   "cell_type": "code",
   "execution_count": null,
   "metadata": {},
   "outputs": [],
   "source": [
    "delta_t"
   ]
  },
  {
   "cell_type": "markdown",
   "metadata": {},
   "source": [
    "### Potenciación, radicación, logaritmos"
   ]
  },
  {
   "cell_type": "code",
   "execution_count": null,
   "metadata": {},
   "outputs": [],
   "source": [
    "a = 1\n",
    "b = 2\n",
    "c = a ** 2 + b ** 3"
   ]
  },
  {
   "cell_type": "code",
   "execution_count": null,
   "metadata": {},
   "outputs": [],
   "source": [
    "a = 16\n",
    "b = sqrt(a)\n",
    "b"
   ]
  },
  {
   "cell_type": "code",
   "execution_count": null,
   "metadata": {},
   "outputs": [],
   "source": [
    "a = 16\n",
    "b = a ** (1/4)\n",
    "b"
   ]
  },
  {
   "cell_type": "code",
   "execution_count": null,
   "metadata": {},
   "outputs": [],
   "source": [
    "a = 10\n",
    "b = log10(a)   # logaritmo en base 10\n",
    "b"
   ]
  },
  {
   "cell_type": "code",
   "execution_count": null,
   "metadata": {},
   "outputs": [],
   "source": [
    "a = 10\n",
    "b = log(a)    # logaritmo natural\n",
    "b"
   ]
  },
  {
   "cell_type": "markdown",
   "metadata": {},
   "source": [
    "# Numpy\n",
    "\n",
    "La librería NumPy es utilizada para trabajar con números y especialmente con matrices. Es análoga a Matlab (ver [Numpy for Matlab users](https://docs.scipy.org/doc/numpy/user/numpy-for-matlab-users.html)) con la ventaja de que es de uso libre (tiene una licencia BSD que tiene pocas restricciones de uso)."
   ]
  },
  {
   "cell_type": "code",
   "execution_count": null,
   "metadata": {},
   "outputs": [],
   "source": [
    "import numpy as np"
   ]
  },
  {
   "cell_type": "code",
   "execution_count": null,
   "metadata": {},
   "outputs": [],
   "source": [
    "A0 = 10\n",
    "t = 4.1\n",
    "lambda = 5    # cuidado con las palabras reservadas\n",
    "A = A0 * np.exp(- lmbd * t)\n",
    "A"
   ]
  },
  {
   "cell_type": "code",
   "execution_count": null,
   "metadata": {},
   "outputs": [],
   "source": [
    "tiempo = np.array([4.0, 8, 15, 22, 30])   # el número con coma indica que el tipo es float\n",
    "actividad = np.array([852.0, 712, 519, 379, 264])\n",
    "tiempo, actividad"
   ]
  },
  {
   "cell_type": "code",
   "execution_count": null,
   "metadata": {},
   "outputs": [],
   "source": [
    "%pylab inline"
   ]
  },
  {
   "cell_type": "code",
   "execution_count": null,
   "metadata": {},
   "outputs": [],
   "source": [
    "plot(tiempo, actividad, 'ro-')\n",
    "# graficar 2 funciones en la misma figura\n",
    "# plot(tiempo, actividad*2, 'b-')"
   ]
  },
  {
   "cell_type": "markdown",
   "metadata": {},
   "source": [
    "### Otro modo de superponer funciones en una gráfica\n",
    "\n",
    "Ver las notas del help(plot) para una lista de las opciones de formato."
   ]
  },
  {
   "cell_type": "code",
   "execution_count": null,
   "metadata": {},
   "outputs": [],
   "source": [
    "plot(tiempo, actividad, 'rD-', tiempo, 3*actividad, 'g*--')"
   ]
  },
  {
   "cell_type": "markdown",
   "metadata": {},
   "source": [
    "## Retornamos al problema 1"
   ]
  },
  {
   "cell_type": "markdown",
   "metadata": {},
   "source": [
    "Vamos a suponer\n",
    "que en la muestra hay un solo radionucleido decayendo, por lo cual la ecuación que describe la evolución de su actividad es $A(t) =\n",
    "A_0 \\cdot e^{- \\lambda \\cdot t}$, donde las incógnitas son $A_0$ y $\\lambda$. \n",
    "\n",
    "Dividiendo las ecuaciones para dos instantes diferentes ($t_1$ y $t_2$) podemos despejar $\\lambda = \\frac{1}{t_2 - t_1} \\cdot \\ln{\\frac{A(t_1)}{A(t_2)}}$. "
   ]
  },
  {
   "cell_type": "code",
   "execution_count": null,
   "metadata": {},
   "outputs": [],
   "source": [
    "# para t1 = 4 horas y t2 = 8 horas\n",
    "\n",
    "lmbd = (1/(8-4)) * np.log(852.0 / 712)\n",
    "lmbd"
   ]
  },
  {
   "cell_type": "markdown",
   "metadata": {},
   "source": [
    "Contando con el valor de $\\lambda$ ya podemos despejar $A_0 = \\frac{A(t)}{e^{- \\lambda \\cdot t}} $"
   ]
  },
  {
   "cell_type": "code",
   "execution_count": null,
   "metadata": {},
   "outputs": [],
   "source": [
    "A0 = 852 / np.exp(-lmbd * 4)\n",
    "A0"
   ]
  },
  {
   "cell_type": "markdown",
   "metadata": {},
   "source": [
    "## Funciones en Python"
   ]
  },
  {
   "cell_type": "code",
   "execution_count": null,
   "metadata": {},
   "outputs": [],
   "source": [
    "def act(A0, lmbd, t):\n",
    "    # print A0, k, t              # para debug\n",
    "    return A0 * np.exp(-lmbd * t)"
   ]
  },
  {
   "cell_type": "code",
   "execution_count": null,
   "metadata": {},
   "outputs": [],
   "source": [
    "A0 = 1250.85   # uso valores elegidos al azar\n",
    "k = 0.59\n",
    "act(A0, k, 5)"
   ]
  },
  {
   "cell_type": "markdown",
   "metadata": {},
   "source": [
    "## Vectores y matrices con Numpy"
   ]
  },
  {
   "cell_type": "markdown",
   "metadata": {},
   "source": [
    "#### Ceros"
   ]
  },
  {
   "cell_type": "code",
   "execution_count": null,
   "metadata": {},
   "outputs": [],
   "source": [
    "ceros = np.zeros(10)\n",
    "ceros"
   ]
  },
  {
   "cell_type": "markdown",
   "metadata": {},
   "source": [
    "#### Unos"
   ]
  },
  {
   "cell_type": "code",
   "execution_count": null,
   "metadata": {},
   "outputs": [],
   "source": [
    "unos = np.ones((3,5), dtype=float)   # (3,5) es un solo parámetro, es una tupla\n",
    "unos"
   ]
  },
  {
   "cell_type": "markdown",
   "metadata": {},
   "source": [
    "#### Vector a partir de una lista de números"
   ]
  },
  {
   "cell_type": "markdown",
   "metadata": {},
   "source": [
    "Una lista en Python se define como una secuencia de elementos, entre corchetes, y separados por comas. Una lista puede contener distintos tipos de elementos."
   ]
  },
  {
   "cell_type": "code",
   "execution_count": null,
   "metadata": {},
   "outputs": [],
   "source": [
    "GoT = ['Temporada 8', 2019, 'Abril', 14]\n",
    "GoT"
   ]
  },
  {
   "cell_type": "code",
   "execution_count": null,
   "metadata": {},
   "outputs": [],
   "source": [
    "type(got)"
   ]
  },
  {
   "cell_type": "code",
   "execution_count": null,
   "metadata": {},
   "outputs": [],
   "source": [
    "lista_actividades = [40.4, 28.3, 19.8, 13.9, 9.7]\n",
    "lista_actividades"
   ]
  },
  {
   "cell_type": "code",
   "execution_count": null,
   "metadata": {},
   "outputs": [],
   "source": [
    "actividades = np.array(lista_actividades)\n",
    "actividades"
   ]
  },
  {
   "cell_type": "code",
   "execution_count": null,
   "metadata": {},
   "outputs": [],
   "source": [
    "# definición directa:\n",
    "\n",
    "tiempos = np.array([5.0, 10, 15, 20, 25])\n",
    "tiempos"
   ]
  },
  {
   "cell_type": "markdown",
   "metadata": {},
   "source": [
    "#### Generación de vectores "
   ]
  },
  {
   "cell_type": "code",
   "execution_count": null,
   "metadata": {},
   "outputs": [],
   "source": [
    "vector_1 = np.arange(0,50,10)   # inicio, fin, paso\n",
    "vector_1"
   ]
  },
  {
   "cell_type": "code",
   "execution_count": null,
   "metadata": {
    "scrolled": true
   },
   "outputs": [],
   "source": [
    "vector_2 = np.linspace(0,50,51)  # inicio, fin, cantidad de elementos\n",
    "vector_2"
   ]
  },
  {
   "cell_type": "code",
   "execution_count": null,
   "metadata": {},
   "outputs": [],
   "source": [
    "t = np.arange(0, 10, 2)\n",
    "a = np.zeros_like(t)\n",
    "t, a"
   ]
  },
  {
   "cell_type": "markdown",
   "metadata": {},
   "source": [
    "#### Acceso a elementos del array"
   ]
  },
  {
   "cell_type": "code",
   "execution_count": null,
   "metadata": {},
   "outputs": [],
   "source": [
    "vector_2[4]"
   ]
  },
  {
   "cell_type": "markdown",
   "metadata": {},
   "source": [
    "### Actualizar los elementos de un vector o matriz\n",
    "\n",
    "**¿Cómo calcular las actividades para cada tiempo y almacenarlas en el vector correspondiente?**\n",
    "\n",
    "Sintaxis de un bucle **for** (la expresión **if** es opcional):\n",
    "```python\n",
    "for elemento in una_lista_cualquiera:\n",
    "    if condicional:\n",
    "        expresion\n",
    "```"
   ]
  },
  {
   "cell_type": "code",
   "execution_count": null,
   "metadata": {},
   "outputs": [],
   "source": [
    "# un ejemplo básico\n",
    "\n",
    "print(t)\n",
    "for elemento in t:\n",
    "    print(elemento)"
   ]
  },
  {
   "cell_type": "markdown",
   "metadata": {},
   "source": [
    "#### Uso de **enumerate(list)**:\n",
    "\n",
    "```python   \n",
    "for indice, elemento in enumerate(una_lista_cualquiera):\n",
    "    if indice>5:\n",
    "        print(indice, valor)\n",
    "```"
   ]
  },
  {
   "cell_type": "code",
   "execution_count": null,
   "metadata": {},
   "outputs": [],
   "source": [
    "for indice, horas in enumerate(t):\n",
    "    # print(indice, horas)\n",
    "    a[indice] = act(A0,lmbd,horas)"
   ]
  },
  {
   "cell_type": "markdown",
   "metadata": {},
   "source": [
    "#### Versión sintética: list comprehension\n",
    "\n",
    "```python\n",
    "[expression for item in list if conditional]\n",
    "```\n",
    "\n",
    "El resultado es una lista, que puede ser convertida en un array de Numpy, como en el ejemplo siguiente:"
   ]
  },
  {
   "cell_type": "code",
   "execution_count": null,
   "metadata": {},
   "outputs": [],
   "source": [
    "A0 = 1578   # un valor al azar\n",
    "a = np.array([act(A0,k,horas) for horas in t])"
   ]
  },
  {
   "cell_type": "code",
   "execution_count": null,
   "metadata": {},
   "outputs": [],
   "source": [
    "plot(t,a, 'bx')"
   ]
  }
 ],
 "metadata": {
  "kernelspec": {
   "display_name": "Python 3",
   "language": "python",
   "name": "python3"
  },
  "language_info": {
   "codemirror_mode": {
    "name": "ipython",
    "version": 3
   },
   "file_extension": ".py",
   "mimetype": "text/x-python",
   "name": "python",
   "nbconvert_exporter": "python",
   "pygments_lexer": "ipython3",
   "version": "3.6.0"
  }
 },
 "nbformat": 4,
 "nbformat_minor": 1
}
