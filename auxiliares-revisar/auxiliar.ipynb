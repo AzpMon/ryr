{
 "cells": [
  {
   "cell_type": "code",
   "execution_count": 6,
   "metadata": {},
   "outputs": [
    {
     "data": {
      "text/plain": [
       "<matplotlib.lines.Line2D at 0x7f0eab699470>"
      ]
     },
     "execution_count": 6,
     "metadata": {},
     "output_type": "execute_result"
    },
    {
     "data": {
      "image/png": "[encoded data removed]",
      "text/plain": [
       "<matplotlib.figure.Figure at 0x7f0eab949a90>"
      ]
     },
     "metadata": {},
     "output_type": "display_data"
    }
   ],
   "source": [
    "import matplotlib.pyplot as plt\n",
    "%matplotlib inline\n",
    "import numpy as np\n",
    "import pint\n",
    "\n",
    "ureg = pint.UnitRegistry()\n",
    "ureg.setup_matplotlib(True)\n",
    "\n",
    "\n",
    "y = np.linspace(0, 30) * ureg.miles\n",
    "x = np.linspace(0, 5) * ureg.hours\n",
    "\n",
    "fig, ax = plt.subplots()\n",
    "ax.plot(x, y, 'tab:blue')\n",
    "ax.axhline(26400 * ureg.feet, color='tab:red')\n",
    "ax.axvline(120 * ureg.minutes, color='tab:green')"
   ]
  },
  {
   "cell_type": "code",
   "execution_count": null,
   "metadata": {},
   "outputs": [],
   "source": []
  },
  {
   "cell_type": "code",
   "execution_count": 35,
   "metadata": {},
   "outputs": [],
   "source": [
    "import math\n",
    "\n",
    "import matplotlib.pyplot as plt\n",
    "%matplotlib inline\n",
    "\n",
    "import numpy as np\n",
    "\n",
    "from pint import UnitRegistry\n",
    "\n",
    "u = UnitRegistry()\n",
    "u.setup_matplotlib(True)\n",
    "u.load_definitions('/home/diego/Documentos/mn-ryr/mis-defs.txt')\n",
    "\n",
    "from decimal import Decimal"
   ]
  },
  {
   "cell_type": "code",
   "execution_count": 4,
   "metadata": {
    "collapsed": true
   },
   "outputs": [],
   "source": [
    "def nucleos_radiactivos(nuc_inicio, ti, tf, lmbd):\n",
    "    \"\"\"\n",
    "Ley de decaimiento radiactivo.\n",
    "\n",
    ":param nuc_inicio: es el número de nucleos radiactivos en el momento inicial\n",
    ":param ti: es el tiempo de referencia, en el cual hay un número de nucleos igual a nuc_inicio \n",
    ":param tf: es el tiempo en el cual se calcula el número de nucleos actual \n",
    ":returns: el número de nucleos en el tiempo tf\n",
    "\"\"\"\n",
    "    return nuc_inicio * math.exp(-lmbd*(tf-ti))\n",
    "\n",
    "def actividad(t_ref, act_ref, t, lmbd):\n",
    "    delta_t = t-t_ref\n",
    "    return act_ref * math.exp(-lmbd*delta_t)\n",
    "\n",
    "def despejar_lmbd(ti, valor_inicial, tf, valor_final):\n",
    "    # obtiene lambda a partir de pares de valor de tiempo y nucleos radiactivos / tiempo y actividad\n",
    "    # por ejemplo: ti = 4, tf = 8, act_i = 852, act_f = 712 ===> lmbd = \n",
    "    return (1/(ti-tf))*math.log(valor_final/valor_inicial)\n",
    "\n",
    "def obtener_semiperiodo(lmbd):\n",
    "    return math.log(2)/lmbd\n",
    "\n",
    "def obtener_lmbd(semiperiodo):\n",
    "    return math.log(2)/semiperiodo"
   ]
  },
  {
   "cell_type": "markdown",
   "metadata": {},
   "source": [
    "## Problema 1 en preparación"
   ]
  },
  {
   "cell_type": "markdown",
   "metadata": {},
   "source": [
    "Vamos a trabajar con el Cu-62, tiene un semiperíodo de desintegración de 9.74 minutos. Sugongamos que la muestra tiene 5 picogramo de Cu-62. \n",
    "\n",
    "62 g ---> 1 mol de Cu-62\n",
    "\n",
    "5 pg ---> x\n",
    "\n",
    "Por lo tanto:\n",
    "\n",
    "N = 5e^-12 * 6.023e^23 / 62 [nucleos de Cu-62]"
   ]
  },
  {
   "cell_type": "code",
   "execution_count": 60,
   "metadata": {},
   "outputs": [],
   "source": [
    "N_0 = 5e-12 * 6.023e23/62"
   ]
  },
  {
   "cell_type": "code",
   "execution_count": 61,
   "metadata": {},
   "outputs": [
    {
     "data": {
      "text/html": [
       "0.07116500827104161 1/minute"
      ],
      "text/latex": [
       "$0.07116500827104161\\ \\frac{1}{\\mathrm{minute}}$"
      ],
      "text/plain": [
       "0.07116500827104161 1/minute"
      ]
     },
     "execution_count": 61,
     "metadata": {},
     "output_type": "execute_result"
    }
   ],
   "source": [
    "Cu62_semiperiodo = 9.74 * u.minutes\n",
    "lmbd = obtener_lmbd(Cu62_semiperiodo)\n",
    "lmbd"
   ]
  },
  {
   "cell_type": "markdown",
   "metadata": {},
   "source": [
    "### Cálculo de la actividad de la muestra\n",
    "\n",
    "$A_0 = N_0 \\; \\lambda$"
   ]
  },
  {
   "cell_type": "code",
   "execution_count": 66,
   "metadata": {},
   "outputs": [
    {
     "data": {
      "text/html": [
       "57.61113505597898 megaBq"
      ],
      "text/latex": [
       "$57.61113505597898\\ \\mathrm{megaBq}$"
      ],
      "text/plain": [
       "57.61113505597898 megaBq"
      ]
     },
     "execution_count": 66,
     "metadata": {},
     "output_type": "execute_result"
    }
   ],
   "source": [
    "A0 = N_0 * lmbd\n",
    "A0.ito('MBq')\n",
    "A0"
   ]
  },
  {
   "cell_type": "markdown",
   "metadata": {},
   "source": [
    "### Cálculo de la actividad en horas posteriores:"
   ]
  },
  {
   "cell_type": "code",
   "execution_count": 65,
   "metadata": {},
   "outputs": [
    {
     "data": {
      "text/html": [
       "40.36208380515582 megaBq"
      ],
      "text/latex": [
       "$40.36208380515582\\ \\mathrm{megaBq}$"
      ],
      "text/plain": [
       "40.36208380515582 megaBq"
      ]
     },
     "execution_count": 65,
     "metadata": {},
     "output_type": "execute_result"
    }
   ],
   "source": [
    "t0=0 * u.min\n",
    "t1=5 * u.min\n",
    "t2=10 * u.min\n",
    "t3=15 * u.min\n",
    "t4=20 * u.min\n",
    "t5=25 * u.min\n",
    "\n",
    "A_05 = actividad(t0,A0,t1,lmbd)\n",
    "A_05"
   ]
  },
  {
   "cell_type": "code",
   "execution_count": 73,
   "metadata": {},
   "outputs": [
    {
     "name": "stdout",
     "output_type": "stream",
     "text": [
      "5 40.36208380515582 megaBq\n",
      "10 28.27748155823483 megaBq\n",
      "15 19.81106741506167 megaBq\n",
      "20 13.879538434702743 megaBq\n",
      "25 9.723937793171707 megaBq\n"
     ]
    }
   ],
   "source": [
    "for t in range(1, 6):\n",
    "    A=actividad(t0,A0,t*5*u.min,lmbd)\n",
    "    print(5*t,A)"
   ]
  },
  {
   "cell_type": "code",
   "execution_count": null,
   "metadata": {
    "collapsed": true
   },
   "outputs": [],
   "source": []
  }
 ],
 "metadata": {
  "kernelspec": {
   "display_name": "Python 3",
   "language": "python",
   "name": "python3"
  },
  "language_info": {
   "codemirror_mode": {
    "name": "ipython",
    "version": 3
   },
   "file_extension": ".py",
   "mimetype": "text/x-python",
   "name": "python",
   "nbconvert_exporter": "python",
   "pygments_lexer": "ipython3",
   "version": "3.6.0"
  }
 },
 "nbformat": 4,
 "nbformat_minor": 2
}
